{
 "cells": [
  {
   "cell_type": "markdown",
   "id": "e2593497",
   "metadata": {},
   "source": [
    "# k-means Clustring \n",
    "Your Sample data is as below"
   ]
  },
  {
   "cell_type": "code",
   "execution_count": 1,
   "id": "083c2b14",
   "metadata": {},
   "outputs": [],
   "source": [
    "# CustomerID: Unique identifier for each customer\n",
    "# Segment: Customer segment (Segment1, Segment2, Segment3)\n",
    "# Recency: Number of days since the last purchase\n",
    "# Frequency: Number of purchases made by the customer\n",
    "# MonetaryValue: Total amount spent by the customer\n",
    "data = {\n",
    "    'CustomerID': [1, 2, 3, 4, 5, 6, 7, 8, 9, 10, 11, 12, 13, 14, 15, 16, 17, 18, 19, 20],\n",
    "    'Segment': ['Segment1', 'Segment2', 'Segment1', 'Segment3', 'Segment2', 'Segment1', 'Segment3', 'Segment2', 'Segment1', 'Segment3', 'Segment2', 'Segment1', 'Segment3', 'Segment2', 'Segment1', 'Segment3', 'Segment2', 'Segment1', 'Segment3', 'Segment2'],\n",
    "    'Recency': [10, 5, 15, 3, 8, 20, 2, 6, 18, 1, 4, 12, 2, 7, 16, 1, 3, 9, 2, 5],\n",
    "    'Frequency': [25, 40, 10, 60, 35, 15, 70, 45, 20, 80, 55, 30, 75, 50, 22, 85, 65, 28, 90, 60],\n",
    "    'MonetaryValue': [500, 1000, 250, 1500, 800, 300, 1800, 900, 400, 2000, 1100, 600, 1700, 950, 350, 2200, 1300, 550, 2400, 1200]\n",
    "}"
   ]
  }
 ],
 "metadata": {
  "colab": {
   "provenance": []
  },
  "kernelspec": {
   "display_name": "Python 3 (ipykernel)",
   "language": "python",
   "name": "python3"
  },
  "language_info": {
   "codemirror_mode": {
    "name": "ipython",
    "version": 3
   },
   "file_extension": ".py",
   "mimetype": "text/x-python",
   "name": "python",
   "nbconvert_exporter": "python",
   "pygments_lexer": "ipython3",
   "version": "3.9.12"
  }
 },
 "nbformat": 4,
 "nbformat_minor": 5
}
