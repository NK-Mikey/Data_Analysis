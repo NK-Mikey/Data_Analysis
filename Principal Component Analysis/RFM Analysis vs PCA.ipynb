{
 "cells": [
  {
   "cell_type": "markdown",
   "id": "ab6c9e0f-7dc3-4c2d-a7ef-76c61985ad21",
   "metadata": {},
   "source": [
    "<div style=\"background-color:#e0f7fa; border-left: 8px solid #00796b; padding: 20px; margin: 20px 0; border-radius: 8px;\">\n",
    "    <h1 style=\"text-align:center; color:#004d40; font-size: 28px; margin-bottom: 10px;\">Applied Analytics Task: RFM Analysis vs PCA</h1>\n",
    "    <h3 style=\"text-align:center; color:#00695c;\">June 26, 2025</h3>\n",
    "    <hr style=\"border-top: 1px solid #004d40;\">\n",
    "    <p style=\"font-size: 16px; line-height: 1.5; color:#333;\">\n",
    "    This assignment involves applying two important customer analytics techniques: <b>RFM (Recency, Frequency, Monetary) Analysis</b> and <b>Principal Component Analysis (PCA) </b> to a transactional dataset of customer purchases. The task is to perform each method separately, interpret their results, and evaluate which technique is more effective for segmenting customers based on their purchasing behavior.\n",
    "    </p>\n",
    "    <p style=\"font-size: 16px; color:#555;\"><b>Contributors:</b> Sanuja Vihanga Senadeera, Naveen Karan Krishna, Thi Anh Tram Le, Mayra Geraldine Reinoso Varon, Justin Kyle Pedro</p>\n",
    "</div>\n"
   ]
  },
  {
   "cell_type": "markdown",
   "id": "5261d582-3598-40e5-8553-ebab63210f7f",
   "metadata": {},
   "source": [
    "<div style=\"background-color: #e0f7fa; padding: 15px; border-radius: 8px;\">\n",
    "\n",
    "Markdown with this color is the explanation of code"
   ]
  },
  {
   "cell_type": "markdown",
   "id": "72ed3d6c-5b4a-4071-b55d-53f9cc161e80",
   "metadata": {},
   "source": [
    "<div style=\"background-color: #f1f8e9; padding: 15px; border-radius: 8px;\">\n",
    "\n",
    "Markdown with this color is the explanation/interpretation of result"
   ]
  },
  {
   "cell_type": "markdown",
   "id": "1268fbbd-ac49-4db9-a1a6-ddf549835348",
   "metadata": {},
   "source": [
    "<div style=\"background-color:#f1f8e9; border-left: 6px solid #689f38; padding: 15px 20px; margin: 15px 0; border-radius: 6px;\">\n",
    "    <h2 style=\"color:#33691e; margin-top:0;\">1. Import libraries</h2>\n",
    "</div>"
   ]
  },
  {
   "cell_type": "code",
   "execution_count": 321,
   "id": "52b4c10d-8b55-42cb-b789-8536411ac342",
   "metadata": {},
   "outputs": [],
   "source": [
    "import pandas as pd\n",
    "import numpy as np\n",
    "import matplotlib.pyplot as plt\n",
    "from sklearn.preprocessing import StandardScaler\n",
    "from sklearn.decomposition import PCA\n",
    "from sklearn.cluster import KMeans\n",
    "import seaborn as sns\n",
    "import warnings\n",
    "warnings.filterwarnings('ignore')    # ignor warning message"
   ]
  },
  {
   "cell_type": "markdown",
   "id": "5ee4e4cd-a51c-4b6e-b8b9-fba3754dc716",
   "metadata": {},
   "source": [
    "<div style=\"background-color: #e0f7fa; padding: 15px; border-radius: 8px;\">\n",
    "\n",
    "This code imports libraries needed for data analysis, visualization, and machine learning:\n",
    "\n",
    "- `pandas` and `numpy`: For handling and manipulating data.\n",
    "\n",
    "- `matplotlib.pyplot` and `seaborn`: For creating visualizations and plots.\n",
    "\n",
    "- `StandardScaler`: To normalize data before clustering or PCA.\n",
    "\n",
    "- `PCA`: For reducing dimensionality while keeping important information.\n",
    "\n",
    "- `KMeans`: For clustering similar data points into groups.\n",
    "\n",
    "These tools are commonly used together in tasks like customer segmentation, RFM analysis, or pattern discovery."
   ]
  },
  {
   "cell_type": "markdown",
   "id": "184c34d7-ca20-4ceb-881c-0cdc3e9a25b8",
   "metadata": {},
   "source": [
    "<div style=\"background-color:#f1f8e9; border-left: 6px solid #689f38; padding: 15px 20px; margin: 15px 0; border-radius: 6px;\">\n",
    "    <h2 style=\"color:#33691e; margin-top:0;\">2. Data Cleaning & Feature Engineering</h2>\n",
    "</div>"
   ]
  },
  {
   "cell_type": "markdown",
   "id": "7e1ecca7-66da-4d10-a49e-2aebbc3867cc",
   "metadata": {},
   "source": [
    "### 2.1 Loading the data"
   ]
  },
  {
   "cell_type": "code",
   "execution_count": 326,
   "id": "c8e94aee-6b0f-4285-aead-ff275979b0e4",
   "metadata": {},
   "outputs": [
    {
     "data": {
      "text/html": [
       "<div>\n",
       "<style scoped>\n",
       "    .dataframe tbody tr th:only-of-type {\n",
       "        vertical-align: middle;\n",
       "    }\n",
       "\n",
       "    .dataframe tbody tr th {\n",
       "        vertical-align: top;\n",
       "    }\n",
       "\n",
       "    .dataframe thead th {\n",
       "        text-align: right;\n",
       "    }\n",
       "</style>\n",
       "<table border=\"1\" class=\"dataframe\">\n",
       "  <thead>\n",
       "    <tr style=\"text-align: right;\">\n",
       "      <th></th>\n",
       "      <th>master_id</th>\n",
       "      <th>order_channel</th>\n",
       "      <th>last_order_channel</th>\n",
       "      <th>first_order_date</th>\n",
       "      <th>last_order_date</th>\n",
       "      <th>last_order_date_online</th>\n",
       "      <th>last_order_date_offline</th>\n",
       "      <th>order_num_total_ever_online</th>\n",
       "      <th>order_num_total_ever_offline</th>\n",
       "      <th>customer_value_total_ever_offline</th>\n",
       "      <th>customer_value_total_ever_online</th>\n",
       "      <th>interested_in_categories_12</th>\n",
       "    </tr>\n",
       "  </thead>\n",
       "  <tbody>\n",
       "    <tr>\n",
       "      <th>0</th>\n",
       "      <td>cc294636-19f0-11eb-8d74-000d3a38a36f</td>\n",
       "      <td>Android App</td>\n",
       "      <td>Offline</td>\n",
       "      <td>2020-10-30</td>\n",
       "      <td>2021-02-26</td>\n",
       "      <td>2021-02-21</td>\n",
       "      <td>2021-02-26</td>\n",
       "      <td>4.0</td>\n",
       "      <td>1.0</td>\n",
       "      <td>139.99</td>\n",
       "      <td>799.38</td>\n",
       "      <td>[KADIN]</td>\n",
       "    </tr>\n",
       "    <tr>\n",
       "      <th>1</th>\n",
       "      <td>f431bd5a-ab7b-11e9-a2fc-000d3a38a36f</td>\n",
       "      <td>Android App</td>\n",
       "      <td>Mobile</td>\n",
       "      <td>2017-02-08</td>\n",
       "      <td>2021-02-16</td>\n",
       "      <td>2021-02-16</td>\n",
       "      <td>2020-01-10</td>\n",
       "      <td>19.0</td>\n",
       "      <td>2.0</td>\n",
       "      <td>159.97</td>\n",
       "      <td>1853.58</td>\n",
       "      <td>[ERKEK, COCUK, KADIN, AKTIFSPOR]</td>\n",
       "    </tr>\n",
       "    <tr>\n",
       "      <th>2</th>\n",
       "      <td>69b69676-1a40-11ea-941b-000d3a38a36f</td>\n",
       "      <td>Android App</td>\n",
       "      <td>Android App</td>\n",
       "      <td>2019-11-27</td>\n",
       "      <td>2020-11-27</td>\n",
       "      <td>2020-11-27</td>\n",
       "      <td>2019-12-01</td>\n",
       "      <td>3.0</td>\n",
       "      <td>2.0</td>\n",
       "      <td>189.97</td>\n",
       "      <td>395.35</td>\n",
       "      <td>[ERKEK, KADIN]</td>\n",
       "    </tr>\n",
       "    <tr>\n",
       "      <th>3</th>\n",
       "      <td>1854e56c-491f-11eb-806e-000d3a38a36f</td>\n",
       "      <td>Android App</td>\n",
       "      <td>Android App</td>\n",
       "      <td>2021-01-06</td>\n",
       "      <td>2021-01-17</td>\n",
       "      <td>2021-01-17</td>\n",
       "      <td>2021-01-06</td>\n",
       "      <td>1.0</td>\n",
       "      <td>1.0</td>\n",
       "      <td>39.99</td>\n",
       "      <td>81.98</td>\n",
       "      <td>[AKTIFCOCUK, COCUK]</td>\n",
       "    </tr>\n",
       "    <tr>\n",
       "      <th>4</th>\n",
       "      <td>d6ea1074-f1f5-11e9-9346-000d3a38a36f</td>\n",
       "      <td>Desktop</td>\n",
       "      <td>Desktop</td>\n",
       "      <td>2019-08-03</td>\n",
       "      <td>2021-03-07</td>\n",
       "      <td>2021-03-07</td>\n",
       "      <td>2019-08-03</td>\n",
       "      <td>1.0</td>\n",
       "      <td>1.0</td>\n",
       "      <td>49.99</td>\n",
       "      <td>159.99</td>\n",
       "      <td>[AKTIFSPOR]</td>\n",
       "    </tr>\n",
       "  </tbody>\n",
       "</table>\n",
       "</div>"
      ],
      "text/plain": [
       "                              master_id order_channel last_order_channel  \\\n",
       "0  cc294636-19f0-11eb-8d74-000d3a38a36f   Android App            Offline   \n",
       "1  f431bd5a-ab7b-11e9-a2fc-000d3a38a36f   Android App             Mobile   \n",
       "2  69b69676-1a40-11ea-941b-000d3a38a36f   Android App        Android App   \n",
       "3  1854e56c-491f-11eb-806e-000d3a38a36f   Android App        Android App   \n",
       "4  d6ea1074-f1f5-11e9-9346-000d3a38a36f       Desktop            Desktop   \n",
       "\n",
       "  first_order_date last_order_date last_order_date_online  \\\n",
       "0       2020-10-30      2021-02-26             2021-02-21   \n",
       "1       2017-02-08      2021-02-16             2021-02-16   \n",
       "2       2019-11-27      2020-11-27             2020-11-27   \n",
       "3       2021-01-06      2021-01-17             2021-01-17   \n",
       "4       2019-08-03      2021-03-07             2021-03-07   \n",
       "\n",
       "  last_order_date_offline  order_num_total_ever_online  \\\n",
       "0              2021-02-26                          4.0   \n",
       "1              2020-01-10                         19.0   \n",
       "2              2019-12-01                          3.0   \n",
       "3              2021-01-06                          1.0   \n",
       "4              2019-08-03                          1.0   \n",
       "\n",
       "   order_num_total_ever_offline  customer_value_total_ever_offline  \\\n",
       "0                           1.0                             139.99   \n",
       "1                           2.0                             159.97   \n",
       "2                           2.0                             189.97   \n",
       "3                           1.0                              39.99   \n",
       "4                           1.0                              49.99   \n",
       "\n",
       "   customer_value_total_ever_online       interested_in_categories_12  \n",
       "0                            799.38                           [KADIN]  \n",
       "1                           1853.58  [ERKEK, COCUK, KADIN, AKTIFSPOR]  \n",
       "2                            395.35                    [ERKEK, KADIN]  \n",
       "3                             81.98               [AKTIFCOCUK, COCUK]  \n",
       "4                            159.99                       [AKTIFSPOR]  "
      ]
     },
     "execution_count": 326,
     "metadata": {},
     "output_type": "execute_result"
    }
   ],
   "source": [
    "flo_df = pd.read_csv(\"flo_data_20k.csv\")\n",
    "\n",
    "# Preview the dataset\n",
    "flo_df.head()"
   ]
  },
  {
   "cell_type": "markdown",
   "id": "4f7e77af-65b5-4092-8a30-e7d34cf13d3d",
   "metadata": {},
   "source": [
    "<div style=\"background-color: #e0f7fa; padding: 15px; border-radius: 8px;\">\n",
    "\n",
    "This code does the following:\n",
    "\n",
    "- Loads the dataset `flo_data_20k.csv` into a DataFrame called `flo_df` using `pandas`.\n",
    "\n",
    "- Displays the first five rows of the dataset with `.head()` to get a quick look at the data’s structure and values."
   ]
  },
  {
   "cell_type": "markdown",
   "id": "7f4f3557-8a73-4e0f-be25-4a593c8f9e27",
   "metadata": {},
   "source": [
    "### 2.2 Inspect the DataFrame"
   ]
  },
  {
   "cell_type": "code",
   "execution_count": 330,
   "id": "d0610746-5d5c-48fd-82c3-312a8c34f1e6",
   "metadata": {},
   "outputs": [
    {
     "name": "stdout",
     "output_type": "stream",
     "text": [
      "Initial shape: (19945, 12)\n",
      "master_id                            0\n",
      "order_channel                        0\n",
      "last_order_channel                   0\n",
      "first_order_date                     0\n",
      "last_order_date                      0\n",
      "last_order_date_online               0\n",
      "last_order_date_offline              0\n",
      "order_num_total_ever_online          0\n",
      "order_num_total_ever_offline         0\n",
      "customer_value_total_ever_offline    0\n",
      "customer_value_total_ever_online     0\n",
      "interested_in_categories_12          0\n",
      "dtype: int64\n"
     ]
    }
   ],
   "source": [
    "#Inspect\n",
    "print(\"Initial shape:\", flo_df.shape)\n",
    "print(flo_df.isna().sum())"
   ]
  },
  {
   "cell_type": "markdown",
   "id": "df494a15-87a2-42b9-aa64-feac23e7833c",
   "metadata": {},
   "source": [
    "<div style=\"background-color: #e0f7fa; padding: 15px; border-radius: 8px;\">\n",
    "\n",
    "This code inspects the dataset for structure and missing values:\n",
    "\n",
    "- `flo_df.shape` prints the number of rows and columns in the dataset.\n",
    "\n",
    "- `flo_df.isna().sum()` counts missing (NaN) values in each column.\n",
    "\n",
    "It helps you understand the dataset size and whether any cleaning is needed."
   ]
  },
  {
   "cell_type": "markdown",
   "id": "4d0a24b6-0641-420b-92c6-32f398791ad6",
   "metadata": {},
   "source": [
    "### 2.3 Drop Duplicates"
   ]
  },
  {
   "cell_type": "code",
   "execution_count": 334,
   "id": "4e831e65-a052-44d6-9d6f-e0574e3ed091",
   "metadata": {},
   "outputs": [
    {
     "name": "stdout",
     "output_type": "stream",
     "text": [
      "After dropping duplicates shape: (19945, 12)\n"
     ]
    }
   ],
   "source": [
    "#Drop duplicates \n",
    "flo_df = flo_df.drop_duplicates()\n",
    "print(\"After dropping duplicates shape:\", flo_df.shape)"
   ]
  },
  {
   "cell_type": "markdown",
   "id": "7bc5534a-b95c-4623-8fcc-5cc7df8880ae",
   "metadata": {},
   "source": [
    "<div style=\"background-color: #e0f7fa; padding: 15px; border-radius: 8px;\">\n",
    "\n",
    "This code removes duplicate rows from the dataset:\n",
    "\n",
    "- `drop_duplicates()` deletes any repeated records in `flo_df`.\n",
    "\n",
    "- The updated shape (rows, columns) is printed to show how many duplicates were removed, if any."
   ]
  },
  {
   "cell_type": "markdown",
   "id": "f1193584-8a0d-424d-8e15-859651fb203d",
   "metadata": {},
   "source": [
    "### 2.4 Remove negative or zero spend"
   ]
  },
  {
   "cell_type": "code",
   "execution_count": 338,
   "id": "a981555e-96e0-4957-86c3-f1067118eb3a",
   "metadata": {},
   "outputs": [
    {
     "name": "stdout",
     "output_type": "stream",
     "text": [
      "Cleaned shape: (19945, 12)\n"
     ]
    }
   ],
   "source": [
    "#Remove negative or zero spend\n",
    "flo_df = flo_df[\n",
    "    (flo_df['customer_value_total_ever_offline'] > 0) & \n",
    "    (flo_df['customer_value_total_ever_online'] > 0)\n",
    "]\n",
    "\n",
    "print(\"Cleaned shape:\", flo_df.shape)"
   ]
  },
  {
   "cell_type": "markdown",
   "id": "17a04ee6-89e4-4bee-96bb-9ff2b4ce1310",
   "metadata": {},
   "source": [
    "<div style=\"background-color: #e0f7fa; padding: 15px; border-radius: 8px;\">\n",
    "\n",
    "This code filters out customers with zero or negative spending:\n",
    "\n",
    "- It keeps only rows where both offline and online spending are greater than 0.\n",
    "\n",
    "- The updated dataset (`flo_df`) now contains only active, revenue-generating customers.\n",
    "\n",
    "- The final shape is printed to show how many rows remain after cleaning."
   ]
  },
  {
   "cell_type": "markdown",
   "id": "36774176-7bf1-4068-a862-ea4a42ffc063",
   "metadata": {},
   "source": [
    "### 2.5 Convert date columns to datetime"
   ]
  },
  {
   "cell_type": "code",
   "execution_count": 342,
   "id": "eba55562-2834-4af9-b801-8d192886b92b",
   "metadata": {},
   "outputs": [
    {
     "name": "stdout",
     "output_type": "stream",
     "text": [
      "<class 'pandas.core.frame.DataFrame'>\n",
      "RangeIndex: 19945 entries, 0 to 19944\n",
      "Data columns (total 12 columns):\n",
      " #   Column                             Non-Null Count  Dtype         \n",
      "---  ------                             --------------  -----         \n",
      " 0   master_id                          19945 non-null  object        \n",
      " 1   order_channel                      19945 non-null  object        \n",
      " 2   last_order_channel                 19945 non-null  object        \n",
      " 3   first_order_date                   19945 non-null  datetime64[ns]\n",
      " 4   last_order_date                    19945 non-null  datetime64[ns]\n",
      " 5   last_order_date_online             19945 non-null  datetime64[ns]\n",
      " 6   last_order_date_offline            19945 non-null  datetime64[ns]\n",
      " 7   order_num_total_ever_online        19945 non-null  float64       \n",
      " 8   order_num_total_ever_offline       19945 non-null  float64       \n",
      " 9   customer_value_total_ever_offline  19945 non-null  float64       \n",
      " 10  customer_value_total_ever_online   19945 non-null  float64       \n",
      " 11  interested_in_categories_12        19945 non-null  object        \n",
      "dtypes: datetime64[ns](4), float64(4), object(4)\n",
      "memory usage: 1.8+ MB\n"
     ]
    }
   ],
   "source": [
    "# Convert date columns to datetime\n",
    "date_columns = [\"first_order_date\", \"last_order_date\", \"last_order_date_online\", \"last_order_date_offline\"]\n",
    "for columns in date_columns:\n",
    "    flo_df[columns] = pd.to_datetime(flo_df[columns])\n",
    "\n",
    "#Checking the change\n",
    "flo_df.info()"
   ]
  },
  {
   "cell_type": "markdown",
   "id": "c35ff54c-15e5-4fac-a43f-36a090c46c84",
   "metadata": {},
   "source": [
    "<div style=\"background-color: #e0f7fa; padding: 15px; border-radius: 8px;\">\n",
    "\n",
    "This code converts specific columns to datetime format:\n",
    "\n",
    "- The `date_columns` list contains column names with date values stored as text.\n",
    "\n",
    "- The `for` loop applies `pd.to_datetime()` to each, converting them to proper `datetime` objects.\n",
    "\n",
    "- This enables accurate time-based operations (like calculating recency).\n",
    "\n",
    "- `flo_df.info()` confirms the change by showing updated data types."
   ]
  },
  {
   "cell_type": "markdown",
   "id": "592f3117-65d3-404f-a011-a6e8ac79956f",
   "metadata": {},
   "source": [
    "<div style=\"background-color:#f1f8e9; border-left: 6px solid #689f38; padding: 15px 20px; margin: 15px 0; border-radius: 6px;\">\n",
    "    <h2 style=\"color:#33691e; margin-top:0;\">3. RFM Analysis</h2>\n",
    "</div>"
   ]
  },
  {
   "cell_type": "markdown",
   "id": "dc636d2f-ba0f-4143-aa6c-33f66b0f3115",
   "metadata": {},
   "source": [
    "### 3.1 Set reference date"
   ]
  },
  {
   "cell_type": "code",
   "execution_count": 347,
   "id": "53f67697-f123-4fda-9aec-98289450c1b5",
   "metadata": {},
   "outputs": [
    {
     "name": "stdout",
     "output_type": "stream",
     "text": [
      "The reference date is 2021-05-31 00:00:00\n"
     ]
    }
   ],
   "source": [
    "# Set reference date for Recency calculation\n",
    "reference_date = flo_df['last_order_date'].max() + pd.Timedelta(days=1)\n",
    "print(\"The reference date is\", reference_date)"
   ]
  },
  {
   "cell_type": "markdown",
   "id": "e700cab2-18bd-4953-b601-87eda1781e26",
   "metadata": {},
   "source": [
    "<div style=\"background-color: #e0f7fa; padding: 15px; border-radius: 8px;\">\n",
    "\n",
    "This code sets a reference date for calculating customer Recency:\n",
    "\n",
    "- It takes the most recent purchase date (`last_order_date.max()`).\n",
    "\n",
    "- Adds 1 day using `pd.Timedelta` to define a consistent point in time for recency calculation.\n",
    "\n",
    "- This reference date is printed and will be used to measure how many days ago each customer last purchased."
   ]
  },
  {
   "cell_type": "markdown",
   "id": "c71d7b03-50e7-48ae-8eb0-735116a45368",
   "metadata": {},
   "source": [
    "### 3.2 Compute Recency, Frequency, Monetary per customer"
   ]
  },
  {
   "cell_type": "code",
   "execution_count": 351,
   "id": "81d7a299-b86a-4a86-a715-75318b23e5ca",
   "metadata": {},
   "outputs": [],
   "source": [
    "# Compute Recency, Frequency, Monetary per customer\n",
    "\n",
    "rfm_flo = flo_df.copy()\n",
    "rfm_flo['Recency'] = (reference_date - rfm_flo['last_order_date']).dt.days\n",
    "rfm_flo['Frequency'] = rfm_flo['order_num_total_ever_online'] + rfm_flo['order_num_total_ever_offline']\n",
    "rfm_flo['Monetary'] = rfm_flo['customer_value_total_ever_online'] + rfm_flo['customer_value_total_ever_offline']"
   ]
  },
  {
   "cell_type": "markdown",
   "id": "e8a2729c-9b47-47ff-b60b-da63a1b718d6",
   "metadata": {},
   "source": [
    "<div style=\"background-color: #e0f7fa; padding: 15px; border-radius: 8px;\">\n",
    "\n",
    "This code computes the RFM metrics for each customer:\n",
    "\n",
    "- `Recency`: Number of days since the last purchase (difference between `reference_date` and `last_order_date`).\n",
    "\n",
    "- `Frequency`: Total number of orders (online + offline).\n",
    "\n",
    "- `Monetary`: Total customer spending (online + offline).\n",
    "\n",
    "These values are added to a copy of the dataset (`rfm_flo`) and are essential for RFM analysis, which helps segment customers by behavior and value."
   ]
  },
  {
   "cell_type": "code",
   "execution_count": 354,
   "id": "7e2d5067-bd65-4fbf-b143-83ac50b335ad",
   "metadata": {},
   "outputs": [],
   "source": [
    "# Keep necessary columns\n",
    "rfm_flo = rfm_flo[['master_id', 'Recency', 'Frequency', 'Monetary']]"
   ]
  },
  {
   "cell_type": "markdown",
   "id": "74b19636-296f-42a5-b5fc-e54483b6f739",
   "metadata": {},
   "source": [
    "<div style=\"background-color: #e0f7fa; padding: 15px; border-radius: 8px;\">\n",
    "\n",
    "This code keeps only the essential columns for RFM analysis:\n",
    "\n",
    "- `master_id`: Unique customer ID.\n",
    "\n",
    "- `Recency`, `Frequency`, `Monetary`: The calculated RFM metrics.\n",
    "\n",
    "It simplifies the dataset `rfm_flo` by removing unnecessary columns and focusing only on what's needed for segmentation."
   ]
  },
  {
   "cell_type": "code",
   "execution_count": 357,
   "id": "05401636-80d7-4601-af12-843fbc3addb1",
   "metadata": {},
   "outputs": [
    {
     "data": {
      "text/html": [
       "<div>\n",
       "<style scoped>\n",
       "    .dataframe tbody tr th:only-of-type {\n",
       "        vertical-align: middle;\n",
       "    }\n",
       "\n",
       "    .dataframe tbody tr th {\n",
       "        vertical-align: top;\n",
       "    }\n",
       "\n",
       "    .dataframe thead th {\n",
       "        text-align: right;\n",
       "    }\n",
       "</style>\n",
       "<table border=\"1\" class=\"dataframe\">\n",
       "  <thead>\n",
       "    <tr style=\"text-align: right;\">\n",
       "      <th></th>\n",
       "      <th>master_id</th>\n",
       "      <th>Recency</th>\n",
       "      <th>Frequency</th>\n",
       "      <th>Monetary</th>\n",
       "      <th>R_score</th>\n",
       "      <th>F_score</th>\n",
       "      <th>M_score</th>\n",
       "      <th>RFM_Score</th>\n",
       "    </tr>\n",
       "  </thead>\n",
       "  <tbody>\n",
       "    <tr>\n",
       "      <th>0</th>\n",
       "      <td>cc294636-19f0-11eb-8d74-000d3a38a36f</td>\n",
       "      <td>94</td>\n",
       "      <td>5.0</td>\n",
       "      <td>939.37</td>\n",
       "      <td>3</td>\n",
       "      <td>4</td>\n",
       "      <td>4</td>\n",
       "      <td>11</td>\n",
       "    </tr>\n",
       "    <tr>\n",
       "      <th>1</th>\n",
       "      <td>f431bd5a-ab7b-11e9-a2fc-000d3a38a36f</td>\n",
       "      <td>104</td>\n",
       "      <td>21.0</td>\n",
       "      <td>2013.55</td>\n",
       "      <td>3</td>\n",
       "      <td>5</td>\n",
       "      <td>5</td>\n",
       "      <td>13</td>\n",
       "    </tr>\n",
       "    <tr>\n",
       "      <th>2</th>\n",
       "      <td>69b69676-1a40-11ea-941b-000d3a38a36f</td>\n",
       "      <td>185</td>\n",
       "      <td>5.0</td>\n",
       "      <td>585.32</td>\n",
       "      <td>2</td>\n",
       "      <td>4</td>\n",
       "      <td>3</td>\n",
       "      <td>9</td>\n",
       "    </tr>\n",
       "    <tr>\n",
       "      <th>3</th>\n",
       "      <td>1854e56c-491f-11eb-806e-000d3a38a36f</td>\n",
       "      <td>134</td>\n",
       "      <td>2.0</td>\n",
       "      <td>121.97</td>\n",
       "      <td>3</td>\n",
       "      <td>1</td>\n",
       "      <td>1</td>\n",
       "      <td>5</td>\n",
       "    </tr>\n",
       "    <tr>\n",
       "      <th>4</th>\n",
       "      <td>d6ea1074-f1f5-11e9-9346-000d3a38a36f</td>\n",
       "      <td>85</td>\n",
       "      <td>2.0</td>\n",
       "      <td>209.98</td>\n",
       "      <td>3</td>\n",
       "      <td>1</td>\n",
       "      <td>1</td>\n",
       "      <td>5</td>\n",
       "    </tr>\n",
       "  </tbody>\n",
       "</table>\n",
       "</div>"
      ],
      "text/plain": [
       "                              master_id  Recency  Frequency  Monetary R_score  \\\n",
       "0  cc294636-19f0-11eb-8d74-000d3a38a36f       94        5.0    939.37       3   \n",
       "1  f431bd5a-ab7b-11e9-a2fc-000d3a38a36f      104       21.0   2013.55       3   \n",
       "2  69b69676-1a40-11ea-941b-000d3a38a36f      185        5.0    585.32       2   \n",
       "3  1854e56c-491f-11eb-806e-000d3a38a36f      134        2.0    121.97       3   \n",
       "4  d6ea1074-f1f5-11e9-9346-000d3a38a36f       85        2.0    209.98       3   \n",
       "\n",
       "  F_score M_score  RFM_Score  \n",
       "0       4       4         11  \n",
       "1       5       5         13  \n",
       "2       4       3          9  \n",
       "3       1       1          5  \n",
       "4       1       1          5  "
      ]
     },
     "execution_count": 357,
     "metadata": {},
     "output_type": "execute_result"
    }
   ],
   "source": [
    "# RFM Scoring (1-5)\n",
    "# Quintile scores: Recency reversed\n",
    "rfm_flo['R_score'] = pd.qcut(rfm_flo['Recency'], 5, labels=[5,4,3,2,1])\n",
    "rfm_flo['F_score'] = pd.qcut(rfm_flo['Frequency'].rank(method=\"first\"), 5, labels=[1,2,3,4,5])\n",
    "rfm_flo['M_score'] = pd.qcut(rfm_flo['Monetary'], 5, labels=[1,2,3,4,5])\n",
    "\n",
    "# Combine into a single RFM score\n",
    "rfm_flo['RFM_Score'] = rfm_flo[['R_score','F_score','M_score']].sum(axis=1)\n",
    "\n",
    "rfm_flo.head()"
   ]
  },
  {
   "cell_type": "markdown",
   "id": "2fa3b3b1-b9c7-42dc-949c-c2a74ba30be6",
   "metadata": {},
   "source": [
    "<div style=\"background-color: #e0f7fa; padding: 15px; border-radius: 8px;\">\n",
    "\n",
    "This code assigns RFM scores (1–5) to each customer:\n",
    "\n",
    "- `R_score`: Based on Recency, where lower recency (more recent) gets a higher score (5).\n",
    "\n",
    "- `F_score`: Based on Frequency rank where more orders = higher score.\n",
    "\n",
    "- `M_score`: Based on Monetary value where higher spending = higher score.\n",
    "\n",
    "Then, it sums these scores to get a total `RFM_Score`, used for customer segmentation.\n",
    "\n",
    "Finally, it shows the top rows with the new scores using `.head()`."
   ]
  },
  {
   "cell_type": "markdown",
   "id": "16567982-58e3-492b-acd2-7d593396b772",
   "metadata": {},
   "source": [
    "### 3.3 Define segment customers on RFM Score "
   ]
  },
  {
   "cell_type": "code",
   "execution_count": 361,
   "id": "55e1ada4-a224-4f37-9f96-a9e9b32755a8",
   "metadata": {},
   "outputs": [
    {
     "name": "stdout",
     "output_type": "stream",
     "text": [
      "7.0 11.0\n"
     ]
    }
   ],
   "source": [
    "#Segment Boundaries (Quantile-Based)\n",
    "\n",
    "# Calculate 33rd and 66th percentiles (for 3 equal groups)\n",
    "low_cutoff = rfm_flo['RFM_Score'].quantile(0.33)    # ~33% of customers\n",
    "mid_cutoff = rfm_flo['RFM_Score'].quantile(0.66)    # ~66% of customers\n",
    "\n",
    "print (low_cutoff, mid_cutoff)"
   ]
  },
  {
   "cell_type": "markdown",
   "id": "191bd1d1-99f0-4327-ad28-4e9263345292",
   "metadata": {},
   "source": [
    "<div style=\"background-color: #e0f7fa; padding: 15px; border-radius: 8px;\">\n",
    "\n",
    "This code calculates cutoff points to divide customers into three groups based on their total RFM scores:\n",
    "\n",
    "- `low_cutoff`: The score at the 33rd percentile, marking the bottom third of customers.\n",
    "\n",
    "- `mid_cutoff`: The score at the 66th percentile, marking the middle third.\n",
    "\n",
    "These values help split customers into Low, Mid, and High value segments for further analysis or targeting."
   ]
  },
  {
   "cell_type": "code",
   "execution_count": 364,
   "id": "f3060e69-7b35-4215-9360-b91bb4aaf74f",
   "metadata": {},
   "outputs": [
    {
     "data": {
      "text/html": [
       "<div>\n",
       "<style scoped>\n",
       "    .dataframe tbody tr th:only-of-type {\n",
       "        vertical-align: middle;\n",
       "    }\n",
       "\n",
       "    .dataframe tbody tr th {\n",
       "        vertical-align: top;\n",
       "    }\n",
       "\n",
       "    .dataframe thead th {\n",
       "        text-align: right;\n",
       "    }\n",
       "</style>\n",
       "<table border=\"1\" class=\"dataframe\">\n",
       "  <thead>\n",
       "    <tr style=\"text-align: right;\">\n",
       "      <th></th>\n",
       "      <th>master_id</th>\n",
       "      <th>Recency</th>\n",
       "      <th>Frequency</th>\n",
       "      <th>Monetary</th>\n",
       "      <th>R_score</th>\n",
       "      <th>F_score</th>\n",
       "      <th>M_score</th>\n",
       "      <th>RFM_Score</th>\n",
       "      <th>Segment</th>\n",
       "    </tr>\n",
       "  </thead>\n",
       "  <tbody>\n",
       "    <tr>\n",
       "      <th>0</th>\n",
       "      <td>cc294636-19f0-11eb-8d74-000d3a38a36f</td>\n",
       "      <td>94</td>\n",
       "      <td>5.0</td>\n",
       "      <td>939.37</td>\n",
       "      <td>3</td>\n",
       "      <td>4</td>\n",
       "      <td>4</td>\n",
       "      <td>11</td>\n",
       "      <td>Mid</td>\n",
       "    </tr>\n",
       "    <tr>\n",
       "      <th>1</th>\n",
       "      <td>f431bd5a-ab7b-11e9-a2fc-000d3a38a36f</td>\n",
       "      <td>104</td>\n",
       "      <td>21.0</td>\n",
       "      <td>2013.55</td>\n",
       "      <td>3</td>\n",
       "      <td>5</td>\n",
       "      <td>5</td>\n",
       "      <td>13</td>\n",
       "      <td>High</td>\n",
       "    </tr>\n",
       "    <tr>\n",
       "      <th>2</th>\n",
       "      <td>69b69676-1a40-11ea-941b-000d3a38a36f</td>\n",
       "      <td>185</td>\n",
       "      <td>5.0</td>\n",
       "      <td>585.32</td>\n",
       "      <td>2</td>\n",
       "      <td>4</td>\n",
       "      <td>3</td>\n",
       "      <td>9</td>\n",
       "      <td>Mid</td>\n",
       "    </tr>\n",
       "    <tr>\n",
       "      <th>3</th>\n",
       "      <td>1854e56c-491f-11eb-806e-000d3a38a36f</td>\n",
       "      <td>134</td>\n",
       "      <td>2.0</td>\n",
       "      <td>121.97</td>\n",
       "      <td>3</td>\n",
       "      <td>1</td>\n",
       "      <td>1</td>\n",
       "      <td>5</td>\n",
       "      <td>Low</td>\n",
       "    </tr>\n",
       "    <tr>\n",
       "      <th>4</th>\n",
       "      <td>d6ea1074-f1f5-11e9-9346-000d3a38a36f</td>\n",
       "      <td>85</td>\n",
       "      <td>2.0</td>\n",
       "      <td>209.98</td>\n",
       "      <td>3</td>\n",
       "      <td>1</td>\n",
       "      <td>1</td>\n",
       "      <td>5</td>\n",
       "      <td>Low</td>\n",
       "    </tr>\n",
       "  </tbody>\n",
       "</table>\n",
       "</div>"
      ],
      "text/plain": [
       "                              master_id  Recency  Frequency  Monetary R_score  \\\n",
       "0  cc294636-19f0-11eb-8d74-000d3a38a36f       94        5.0    939.37       3   \n",
       "1  f431bd5a-ab7b-11e9-a2fc-000d3a38a36f      104       21.0   2013.55       3   \n",
       "2  69b69676-1a40-11ea-941b-000d3a38a36f      185        5.0    585.32       2   \n",
       "3  1854e56c-491f-11eb-806e-000d3a38a36f      134        2.0    121.97       3   \n",
       "4  d6ea1074-f1f5-11e9-9346-000d3a38a36f       85        2.0    209.98       3   \n",
       "\n",
       "  F_score M_score  RFM_Score Segment  \n",
       "0       4       4         11     Mid  \n",
       "1       5       5         13    High  \n",
       "2       4       3          9     Mid  \n",
       "3       1       1          5     Low  \n",
       "4       1       1          5     Low  "
      ]
     },
     "execution_count": 364,
     "metadata": {},
     "output_type": "execute_result"
    }
   ],
   "source": [
    "# Segment customers on RFM Score\n",
    "rfm_flo['Segment'] = pd.cut(\n",
    "    rfm_flo['RFM_Score'],\n",
    "    bins=[0,7,11,15],\n",
    "    labels=['Low','Mid','High']\n",
    ")\n",
    "\n",
    "rfm_flo.head()"
   ]
  },
  {
   "cell_type": "markdown",
   "id": "e66a360a-1f68-462d-8c4a-20050c95665b",
   "metadata": {},
   "source": [
    "<div style=\"background-color: #e0f7fa; padding: 15px; border-radius: 8px;\">\n",
    "\n",
    "This code assigns customers to segments based on their RFM scores:\n",
    "\n",
    "- Scores between 0 and 7 → **Low** segment\n",
    "\n",
    "- Scores between 8 and 11 → **Mid** segment\n",
    "\n",
    "- Scores between 12 and 15 → **High** segment\n",
    "\n",
    "It creates a new `Segment` column with these labels and shows the first few rows with `.head()`."
   ]
  },
  {
   "cell_type": "code",
   "execution_count": 367,
   "id": "0211bdf5-5fe0-4b7b-af0d-4fb5683fef97",
   "metadata": {},
   "outputs": [
    {
     "data": {
      "text/html": [
       "<div>\n",
       "<style scoped>\n",
       "    .dataframe tbody tr th:only-of-type {\n",
       "        vertical-align: middle;\n",
       "    }\n",
       "\n",
       "    .dataframe tbody tr th {\n",
       "        vertical-align: top;\n",
       "    }\n",
       "\n",
       "    .dataframe thead th {\n",
       "        text-align: right;\n",
       "    }\n",
       "</style>\n",
       "<table border=\"1\" class=\"dataframe\">\n",
       "  <thead>\n",
       "    <tr style=\"text-align: right;\">\n",
       "      <th></th>\n",
       "      <th>Recency</th>\n",
       "      <th>Frequency</th>\n",
       "      <th>Monetary</th>\n",
       "      <th>CustomerCount</th>\n",
       "    </tr>\n",
       "    <tr>\n",
       "      <th>Segment</th>\n",
       "      <th></th>\n",
       "      <th></th>\n",
       "      <th></th>\n",
       "      <th></th>\n",
       "    </tr>\n",
       "  </thead>\n",
       "  <tbody>\n",
       "    <tr>\n",
       "      <th>Low</th>\n",
       "      <td>192.17</td>\n",
       "      <td>2.55</td>\n",
       "      <td>325.33</td>\n",
       "      <td>7103</td>\n",
       "    </tr>\n",
       "    <tr>\n",
       "      <th>Mid</th>\n",
       "      <td>126.91</td>\n",
       "      <td>4.57</td>\n",
       "      <td>674.75</td>\n",
       "      <td>7883</td>\n",
       "    </tr>\n",
       "    <tr>\n",
       "      <th>High</th>\n",
       "      <td>59.77</td>\n",
       "      <td>9.29</td>\n",
       "      <td>1482.90</td>\n",
       "      <td>4959</td>\n",
       "    </tr>\n",
       "  </tbody>\n",
       "</table>\n",
       "</div>"
      ],
      "text/plain": [
       "         Recency  Frequency  Monetary  CustomerCount\n",
       "Segment                                             \n",
       "Low       192.17       2.55    325.33           7103\n",
       "Mid       126.91       4.57    674.75           7883\n",
       "High       59.77       9.29   1482.90           4959"
      ]
     },
     "execution_count": 367,
     "metadata": {},
     "output_type": "execute_result"
    }
   ],
   "source": [
    "# Summary of segments\n",
    "segment_summary = rfm_flo.groupby('Segment').agg({\n",
    "    'Recency': 'mean',\n",
    "    'Frequency': 'mean',\n",
    "    'Monetary': 'mean',\n",
    "    'master_id': 'count'\n",
    "}).rename(columns={'master_id': 'CustomerCount'}).round(2)\n",
    "\n",
    "segment_summary"
   ]
  },
  {
   "cell_type": "markdown",
   "id": "4a2308db-b42d-4f33-9376-6ab115c6e774",
   "metadata": {},
   "source": [
    "<div style=\"background-color: #e0f7fa; padding: 15px; border-radius: 8px;\">\n",
    "\n",
    "This code summarizes each customer segment by calculating:\n",
    "\n",
    "- The average **Recency**, **Frequency**, and **Monetary** values per segment.\n",
    "\n",
    "- The **number of customers** in each segment (`CustomerCount`).\n",
    "\n",
    "- It rounds values to two decimals for clarity.\n",
    "\n",
    "This summary helps understand the characteristics and size of each segment."
   ]
  },
  {
   "cell_type": "markdown",
   "id": "e61b211e-9a2a-4ad7-8bd8-0e5091bf72f8",
   "metadata": {},
   "source": [
    "### 3.4 RFM Visualizations"
   ]
  },
  {
   "cell_type": "code",
   "execution_count": 371,
   "id": "474f52e3-7fff-43eb-a7e0-ffc7645f550a",
   "metadata": {},
   "outputs": [
    {
     "data": {
      "image/png": "[encoded data removed]",
      "text/plain": [
       "<Figure size 600x400 with 1 Axes>"
      ]
     },
     "metadata": {},
     "output_type": "display_data"
    }
   ],
   "source": [
    "# Bar chart for segments\n",
    "\n",
    "# 1. Prepare counts & colors\n",
    "segment_counts = rfm_flo['Segment'].value_counts().reindex(['Low','Mid','High'])\n",
    "colors = ['#d62728','#ff7f0e','#2ca02c']  # Low, Mid, High\n",
    "\n",
    "# 2. Plot in one line, grab the Axes\n",
    "ax = segment_counts.plot.bar(\n",
    "    color=colors,\n",
    "    figsize=(6,4),\n",
    "    title='Customer Count by RFM Segment'\n",
    ")\n",
    "\n",
    "# 3. Tidy up axes\n",
    "ax.set_xlabel('Segment')\n",
    "ax.set_ylabel('Number of Customers')\n",
    "plt.ylim(0, segment_counts.max()*1.1)   # headroom for labels\n",
    "\n",
    "# 4. Annotate counts\n",
    "for i, v in enumerate(segment_counts):\n",
    "    ax.text(i, v + segment_counts.max()*0.02, str(v), ha='center')\n",
    "\n",
    "plt.tight_layout()\n",
    "plt.show()"
   ]
  },
  {
   "cell_type": "markdown",
   "id": "b8faf5de-31db-4e68-a9e3-d122b2a65fd3",
   "metadata": {},
   "source": [
    "<div style=\"background-color: #e0f7fa; padding: 15px; border-radius: 8px;\">\n",
    "\n",
    "This code creates a **bar chart** showing the number of customers in each RFM segment:\n",
    "\n",
    "- It counts customers per segment (`Low`, `Mid`, `High`) and sets colors for each.\n",
    "\n",
    "- Plots a colored bar chart with titles and axis labels.\n",
    "\n",
    "- Adds a little space above bars to display the exact counts as text labels.\n",
    "\n",
    "- Adjusts layout to avoid overlapping and then displays the chart.\n",
    "\n",
    "- The chart visually compares segment sizes for easy understanding."
   ]
  },
  {
   "cell_type": "markdown",
   "id": "30cf48ee-c368-486b-961d-c26c80e53318",
   "metadata": {},
   "source": [
    "<div style=\"background-color:#f1f8e9; border-left: 6px solid #689f38; padding: 15px 20px; margin: 15px 0; border-radius: 6px;\">\n",
    "    <h2 style=\"color:#33691e; margin-top:0;\"> RFM Segmentation Bar Interpretation</h2>\n",
    "    <p style=\"font-size: 15px; line-height: 1.5; color:#333;\">\n",
    "    This chart indicates the number of customers in each RFM segment, Low, Mid, and High, defined by combined scores of recency (how recently a customer made a purchase), frequency (how often they make a purchase), and monetary (how much they spend).\n",
    "\n",
    "<b>1. Mid-Value Segment (7,883 customers)</b>\n",
    "\n",
    "* This is the largest group, comprising 39% of all customers.\n",
    "* They possess medium loyalty: they purchase neither sporadically nor frequently, and their spending is moderate.\n",
    "* Business implication: This is a reliable core segment of repeat business. Focused marketing initiatives in the form of tailor-made offers or small loyalty rewards could nudge them into the High-Value segment.\n",
    "\n",
    "<b>2.Low-Value Segment (7,103 customers)</b>\n",
    "\n",
    "* Making up approximately 35% of the base, these customers have lower frequency and amount spent, and/or haven't purchased in a very long time.\n",
    "* Business implication: They are at potential risk of churn or one-off buyers.\n",
    "* Reactivation strategies, like win-back emails or onboarding discounts, could win them back.\n",
    "\n",
    "<b>3. High-Value Segment (4,959 customers)</b>\n",
    "* The smallest segment, making up approximately 24% of customers, but contributing the highest percentage of revenue per customer.\n",
    "* The most loyal and valuable shoppers: they shop often, spend more, and do it regularly.\n",
    "* Business implication: This group deserves premium service, early access to new products, VIP status, or exclusive events, to keep and grow their loyalty.\n",
    "\n",
    "<b>Key Takeaways</b>\n",
    "\n",
    "* The most populated group is Mid-Value, so most customers fall into a \"steady but not outstanding\" purchasing habit.\n",
    "* A big Low-Value group suggests reactivation potential and room for more engagement.\n",
    "* The High-Value segment, the smallest, has the most revenue potential per customer and needs to be protected with tailored loyalty programs\n",
    "\n",
    "    </p>\n",
    "</div>"
   ]
  },
  {
   "cell_type": "code",
   "execution_count": 375,
   "id": "0b293871-de03-4b7f-9b7d-7abae8662ea8",
   "metadata": {},
   "outputs": [
    {
     "data": {
      "image/png": "[encoded data removed]",
      "text/plain": [
       "<Figure size 640x480 with 2 Axes>"
      ]
     },
     "metadata": {},
     "output_type": "display_data"
    }
   ],
   "source": [
    "#2D scatter (Frequency vs Monetary)\n",
    "plt.scatter(rfm_flo['Frequency'], rfm_flo['Monetary'], \n",
    "            c=rfm_flo['RFM_Score'], cmap='viridis', alpha=0.6)\n",
    "plt.colorbar(label='RFM Score')\n",
    "plt.xlabel('Frequency')\n",
    "plt.ylabel('Monetary')\n",
    "plt.title('Frequency vs Monetary (colored by RFM Score)')\n",
    "plt.tight_layout()\n",
    "plt.show()"
   ]
  },
  {
   "cell_type": "markdown",
   "id": "b33d8d4c-202c-4b6b-917f-2c89851462b0",
   "metadata": {},
   "source": [
    "<div style=\"background-color: #e0f7fa; padding: 15px; border-radius: 8px;\">\n",
    "\n",
    "This code creates a **2D scatter plot** showing the relationship between:\n",
    "\n",
    "- **Frequency** (number of orders) on the x-axis,\n",
    "\n",
    "- **Monetary** (total spending) on the y-axis.\n",
    "\n",
    "Each point represents a customer, colored by their **RFM Score** using a color gradient (`viridis` colormap).\n",
    "\n",
    "The color bar shows the RFM Score scale, helping to visualize how customer value relates to order frequency and spending."
   ]
  },
  {
   "cell_type": "markdown",
   "id": "7418300f-6f63-4a8e-aac7-ad178f12f6c9",
   "metadata": {},
   "source": [
    "<div style=\"background-color:#f1f8e9; border-left: 6px solid #689f38; padding: 15px 20px; margin: 15px 0; border-radius: 6px;\">\n",
    "    <h2 style=\"color:#33691e; margin-top:0;\"> RFM Segmentation Scatter Interpretation</h2>\n",
    "    <p style=\"font-size: 15px; line-height: 1.5; color:#333;\">\n",
    "\n",
    "The Monetary value vs. Frequency scatter plot, color-coded by RFM score, has a well-defined positive slope: high-frequency buyers also spend more in total. \n",
    "* Most customers cluster in the lower-left quadrant, low-frequency, low-spend customers.\n",
    "* The middle band of green dots are mid-buyers\n",
    "* The bright yellow dots way out on the right and top are the top customers, with extremely high order sizes and overall spend.\n",
    "\n",
    "This gradient from dark (low value) to green (mid value) to bright yellow (high value), clinches the fact that RFM scoring does map well onto real purchase behavior: as frequency increases, monetary value goes up in almost lockstep.\n",
    "\n",
    "</div>"
   ]
  },
  {
   "cell_type": "markdown",
   "id": "503300fe-eff5-4363-b3b9-c3bd6dddab96",
   "metadata": {},
   "source": [
    "<div style=\"background-color:#f1f8e9; border-left: 6px solid #689f38; padding: 15px 20px; margin: 15px 0; border-radius: 6px;\">\n",
    "    <h2 style=\"color:#33691e; margin-top:0;\">4. PCA Analysis</h2>\n",
    "</div>"
   ]
  },
  {
   "cell_type": "code",
   "execution_count": 379,
   "id": "86f1cc13-09d9-4347-9e57-2ee55c6d45b1",
   "metadata": {},
   "outputs": [
    {
     "data": {
      "text/html": [
       "<div>\n",
       "<style scoped>\n",
       "    .dataframe tbody tr th:only-of-type {\n",
       "        vertical-align: middle;\n",
       "    }\n",
       "\n",
       "    .dataframe tbody tr th {\n",
       "        vertical-align: top;\n",
       "    }\n",
       "\n",
       "    .dataframe thead th {\n",
       "        text-align: right;\n",
       "    }\n",
       "</style>\n",
       "<table border=\"1\" class=\"dataframe\">\n",
       "  <thead>\n",
       "    <tr style=\"text-align: right;\">\n",
       "      <th></th>\n",
       "      <th>master_id</th>\n",
       "      <th>order_channel</th>\n",
       "      <th>last_order_channel</th>\n",
       "      <th>first_order_date</th>\n",
       "      <th>last_order_date</th>\n",
       "      <th>last_order_date_online</th>\n",
       "      <th>last_order_date_offline</th>\n",
       "      <th>order_num_total_ever_online</th>\n",
       "      <th>order_num_total_ever_offline</th>\n",
       "      <th>customer_value_total_ever_offline</th>\n",
       "      <th>customer_value_total_ever_online</th>\n",
       "      <th>interested_in_categories_12</th>\n",
       "    </tr>\n",
       "  </thead>\n",
       "  <tbody>\n",
       "    <tr>\n",
       "      <th>0</th>\n",
       "      <td>cc294636-19f0-11eb-8d74-000d3a38a36f</td>\n",
       "      <td>Android App</td>\n",
       "      <td>Offline</td>\n",
       "      <td>2020-10-30</td>\n",
       "      <td>2021-02-26</td>\n",
       "      <td>2021-02-21</td>\n",
       "      <td>2021-02-26</td>\n",
       "      <td>4.0</td>\n",
       "      <td>1.0</td>\n",
       "      <td>139.99</td>\n",
       "      <td>799.38</td>\n",
       "      <td>[KADIN]</td>\n",
       "    </tr>\n",
       "    <tr>\n",
       "      <th>1</th>\n",
       "      <td>f431bd5a-ab7b-11e9-a2fc-000d3a38a36f</td>\n",
       "      <td>Android App</td>\n",
       "      <td>Mobile</td>\n",
       "      <td>2017-02-08</td>\n",
       "      <td>2021-02-16</td>\n",
       "      <td>2021-02-16</td>\n",
       "      <td>2020-01-10</td>\n",
       "      <td>19.0</td>\n",
       "      <td>2.0</td>\n",
       "      <td>159.97</td>\n",
       "      <td>1853.58</td>\n",
       "      <td>[ERKEK, COCUK, KADIN, AKTIFSPOR]</td>\n",
       "    </tr>\n",
       "    <tr>\n",
       "      <th>2</th>\n",
       "      <td>69b69676-1a40-11ea-941b-000d3a38a36f</td>\n",
       "      <td>Android App</td>\n",
       "      <td>Android App</td>\n",
       "      <td>2019-11-27</td>\n",
       "      <td>2020-11-27</td>\n",
       "      <td>2020-11-27</td>\n",
       "      <td>2019-12-01</td>\n",
       "      <td>3.0</td>\n",
       "      <td>2.0</td>\n",
       "      <td>189.97</td>\n",
       "      <td>395.35</td>\n",
       "      <td>[ERKEK, KADIN]</td>\n",
       "    </tr>\n",
       "    <tr>\n",
       "      <th>3</th>\n",
       "      <td>1854e56c-491f-11eb-806e-000d3a38a36f</td>\n",
       "      <td>Android App</td>\n",
       "      <td>Android App</td>\n",
       "      <td>2021-01-06</td>\n",
       "      <td>2021-01-17</td>\n",
       "      <td>2021-01-17</td>\n",
       "      <td>2021-01-06</td>\n",
       "      <td>1.0</td>\n",
       "      <td>1.0</td>\n",
       "      <td>39.99</td>\n",
       "      <td>81.98</td>\n",
       "      <td>[AKTIFCOCUK, COCUK]</td>\n",
       "    </tr>\n",
       "    <tr>\n",
       "      <th>4</th>\n",
       "      <td>d6ea1074-f1f5-11e9-9346-000d3a38a36f</td>\n",
       "      <td>Desktop</td>\n",
       "      <td>Desktop</td>\n",
       "      <td>2019-08-03</td>\n",
       "      <td>2021-03-07</td>\n",
       "      <td>2021-03-07</td>\n",
       "      <td>2019-08-03</td>\n",
       "      <td>1.0</td>\n",
       "      <td>1.0</td>\n",
       "      <td>49.99</td>\n",
       "      <td>159.99</td>\n",
       "      <td>[AKTIFSPOR]</td>\n",
       "    </tr>\n",
       "  </tbody>\n",
       "</table>\n",
       "</div>"
      ],
      "text/plain": [
       "                              master_id order_channel last_order_channel  \\\n",
       "0  cc294636-19f0-11eb-8d74-000d3a38a36f   Android App            Offline   \n",
       "1  f431bd5a-ab7b-11e9-a2fc-000d3a38a36f   Android App             Mobile   \n",
       "2  69b69676-1a40-11ea-941b-000d3a38a36f   Android App        Android App   \n",
       "3  1854e56c-491f-11eb-806e-000d3a38a36f   Android App        Android App   \n",
       "4  d6ea1074-f1f5-11e9-9346-000d3a38a36f       Desktop            Desktop   \n",
       "\n",
       "  first_order_date last_order_date last_order_date_online  \\\n",
       "0       2020-10-30      2021-02-26             2021-02-21   \n",
       "1       2017-02-08      2021-02-16             2021-02-16   \n",
       "2       2019-11-27      2020-11-27             2020-11-27   \n",
       "3       2021-01-06      2021-01-17             2021-01-17   \n",
       "4       2019-08-03      2021-03-07             2021-03-07   \n",
       "\n",
       "  last_order_date_offline  order_num_total_ever_online  \\\n",
       "0              2021-02-26                          4.0   \n",
       "1              2020-01-10                         19.0   \n",
       "2              2019-12-01                          3.0   \n",
       "3              2021-01-06                          1.0   \n",
       "4              2019-08-03                          1.0   \n",
       "\n",
       "   order_num_total_ever_offline  customer_value_total_ever_offline  \\\n",
       "0                           1.0                             139.99   \n",
       "1                           2.0                             159.97   \n",
       "2                           2.0                             189.97   \n",
       "3                           1.0                              39.99   \n",
       "4                           1.0                              49.99   \n",
       "\n",
       "   customer_value_total_ever_online       interested_in_categories_12  \n",
       "0                            799.38                           [KADIN]  \n",
       "1                           1853.58  [ERKEK, COCUK, KADIN, AKTIFSPOR]  \n",
       "2                            395.35                    [ERKEK, KADIN]  \n",
       "3                             81.98               [AKTIFCOCUK, COCUK]  \n",
       "4                            159.99                       [AKTIFSPOR]  "
      ]
     },
     "execution_count": 379,
     "metadata": {},
     "output_type": "execute_result"
    }
   ],
   "source": [
    "# Original dataset\n",
    "\n",
    "flo_df.head()"
   ]
  },
  {
   "cell_type": "code",
   "execution_count": 382,
   "id": "a7ae1425-139c-40b8-9b56-370d93513b51",
   "metadata": {},
   "outputs": [],
   "source": [
    "# Selecting only numerical columns \n",
    "features = flo_df[['order_num_total_ever_online', 'order_num_total_ever_offline', 'customer_value_total_ever_offline', 'customer_value_total_ever_online']]"
   ]
  },
  {
   "cell_type": "markdown",
   "id": "2cbec7ea-01f8-4fd2-848c-5bcaf799d80f",
   "metadata": {},
   "source": [
    "<div style=\"background-color: #e0f7fa; padding: 15px; border-radius: 8px;\">\n",
    "\n",
    "This code selects only the numerical columns related to customer orders and spending from the dataset `flo_df`:\n",
    "\n",
    "- Online and offline **order counts**\n",
    "\n",
    "- Online and offline **customer spending**\n",
    "\n",
    "These selected features are likely used for further analysis like scaling, PCA & clustering."
   ]
  },
  {
   "cell_type": "code",
   "execution_count": 385,
   "id": "87d22c4e-95ad-4ae8-ae04-f00dbcae4060",
   "metadata": {},
   "outputs": [],
   "source": [
    "# Standardizing the features\n",
    "scaler = StandardScaler()\n",
    "X_scaled = scaler.fit_transform(features)"
   ]
  },
  {
   "cell_type": "markdown",
   "id": "b97b0b3e-fa19-43e1-b4c1-21aa343726aa",
   "metadata": {},
   "source": [
    "<div style=\"background-color: #e0f7fa; padding: 15px; border-radius: 8px;\">\n",
    "\n",
    "This code standardizes the selected numerical features:\n",
    "\n",
    "- `StandardScaler()` scales data to have a mean of 0 and standard deviation of 1.\n",
    "\n",
    "- `fit_transform()` learns the scaling parameters from features and applies the transformation.\n",
    "\n",
    "- The result, `X_scaled`, is the normalized data ready for algorithms like PCA or clustering, which perform better on standardized data."
   ]
  },
  {
   "cell_type": "code",
   "execution_count": 388,
   "id": "1b79cb57-9155-4c89-8ce2-11f327876161",
   "metadata": {},
   "outputs": [],
   "source": [
    "# Sets up the PCA object\n",
    "\n",
    "pca=PCA(n_components=2)\n",
    "pcs = pca.fit_transform(X_scaled)\n",
    "\n",
    "# Adding PCA to the dataframe\n",
    "\n",
    "pca_flo = flo_df.copy()\n",
    "pca_flo['PC1'] = pcs[:,0]\n",
    "pca_flo['PC2'] = pcs[:,1]"
   ]
  },
  {
   "cell_type": "markdown",
   "id": "5a96641f-740f-4bb1-b541-b24df3369507",
   "metadata": {},
   "source": [
    "<div style=\"background-color: #e0f7fa; padding: 15px; border-radius: 8px;\">\n",
    "\n",
    "This code performs **Principal Component Analysis (PCA)** to reduce data dimensions:\n",
    "\n",
    "- Creates a PCA object to reduce to **2 components** (`n_components=2`).\n",
    "\n",
    "- Applies PCA on the standardized features (`X_scaled`), producing two new variables (`pcs`).\n",
    "\n",
    "- Copies the original DataFrame to `pca_flo`.\n",
    "\n",
    "- Adds the two principal components as new columns (`PC1` and `PC2`) for each customer, capturing most of the data’s variation in just two dimensions."
   ]
  },
  {
   "cell_type": "code",
   "execution_count": 391,
   "id": "12df15a4-3cd9-4257-98b3-5ef2f6ee5f22",
   "metadata": {},
   "outputs": [
    {
     "data": {
      "text/html": [
       "<div>\n",
       "<style scoped>\n",
       "    .dataframe tbody tr th:only-of-type {\n",
       "        vertical-align: middle;\n",
       "    }\n",
       "\n",
       "    .dataframe tbody tr th {\n",
       "        vertical-align: top;\n",
       "    }\n",
       "\n",
       "    .dataframe thead th {\n",
       "        text-align: right;\n",
       "    }\n",
       "</style>\n",
       "<table border=\"1\" class=\"dataframe\">\n",
       "  <thead>\n",
       "    <tr style=\"text-align: right;\">\n",
       "      <th></th>\n",
       "      <th>master_id</th>\n",
       "      <th>order_num_total_ever_online</th>\n",
       "      <th>order_num_total_ever_offline</th>\n",
       "      <th>customer_value_total_ever_offline</th>\n",
       "      <th>customer_value_total_ever_online</th>\n",
       "      <th>PC1</th>\n",
       "      <th>PC2</th>\n",
       "    </tr>\n",
       "  </thead>\n",
       "  <tbody>\n",
       "    <tr>\n",
       "      <th>0</th>\n",
       "      <td>cc294636-19f0-11eb-8d74-000d3a38a36f</td>\n",
       "      <td>4.0</td>\n",
       "      <td>1.0</td>\n",
       "      <td>139.99</td>\n",
       "      <td>799.38</td>\n",
       "      <td>0.242989</td>\n",
       "      <td>-0.664321</td>\n",
       "    </tr>\n",
       "    <tr>\n",
       "      <th>1</th>\n",
       "      <td>f431bd5a-ab7b-11e9-a2fc-000d3a38a36f</td>\n",
       "      <td>19.0</td>\n",
       "      <td>2.0</td>\n",
       "      <td>159.97</td>\n",
       "      <td>1853.58</td>\n",
       "      <td>3.631123</td>\n",
       "      <td>-1.172974</td>\n",
       "    </tr>\n",
       "    <tr>\n",
       "      <th>2</th>\n",
       "      <td>69b69676-1a40-11ea-941b-000d3a38a36f</td>\n",
       "      <td>3.0</td>\n",
       "      <td>2.0</td>\n",
       "      <td>189.97</td>\n",
       "      <td>395.35</td>\n",
       "      <td>-0.132959</td>\n",
       "      <td>-0.089835</td>\n",
       "    </tr>\n",
       "    <tr>\n",
       "      <th>3</th>\n",
       "      <td>1854e56c-491f-11eb-806e-000d3a38a36f</td>\n",
       "      <td>1.0</td>\n",
       "      <td>1.0</td>\n",
       "      <td>39.99</td>\n",
       "      <td>81.98</td>\n",
       "      <td>-0.891833</td>\n",
       "      <td>-0.606330</td>\n",
       "    </tr>\n",
       "    <tr>\n",
       "      <th>4</th>\n",
       "      <td>d6ea1074-f1f5-11e9-9346-000d3a38a36f</td>\n",
       "      <td>1.0</td>\n",
       "      <td>1.0</td>\n",
       "      <td>49.99</td>\n",
       "      <td>159.99</td>\n",
       "      <td>-0.821630</td>\n",
       "      <td>-0.600227</td>\n",
       "    </tr>\n",
       "  </tbody>\n",
       "</table>\n",
       "</div>"
      ],
      "text/plain": [
       "                              master_id  order_num_total_ever_online  \\\n",
       "0  cc294636-19f0-11eb-8d74-000d3a38a36f                          4.0   \n",
       "1  f431bd5a-ab7b-11e9-a2fc-000d3a38a36f                         19.0   \n",
       "2  69b69676-1a40-11ea-941b-000d3a38a36f                          3.0   \n",
       "3  1854e56c-491f-11eb-806e-000d3a38a36f                          1.0   \n",
       "4  d6ea1074-f1f5-11e9-9346-000d3a38a36f                          1.0   \n",
       "\n",
       "   order_num_total_ever_offline  customer_value_total_ever_offline  \\\n",
       "0                           1.0                             139.99   \n",
       "1                           2.0                             159.97   \n",
       "2                           2.0                             189.97   \n",
       "3                           1.0                              39.99   \n",
       "4                           1.0                              49.99   \n",
       "\n",
       "   customer_value_total_ever_online       PC1       PC2  \n",
       "0                            799.38  0.242989 -0.664321  \n",
       "1                           1853.58  3.631123 -1.172974  \n",
       "2                            395.35 -0.132959 -0.089835  \n",
       "3                             81.98 -0.891833 -0.606330  \n",
       "4                            159.99 -0.821630 -0.600227  "
      ]
     },
     "execution_count": 391,
     "metadata": {},
     "output_type": "execute_result"
    }
   ],
   "source": [
    "# Keep necessary columns\n",
    "pca_flo = pca_flo[['master_id', 'order_num_total_ever_online', 'order_num_total_ever_offline', 'customer_value_total_ever_offline', 'customer_value_total_ever_online', 'PC1', 'PC2']]\n",
    "\n",
    "pca_flo.head()"
   ]
  },
  {
   "cell_type": "markdown",
   "id": "bd12823c-95b9-4b08-9046-625a48b7fbe2",
   "metadata": {},
   "source": [
    "<div style=\"background-color: #e0f7fa; padding: 15px; border-radius: 8px;\">\n",
    "\n",
    "This code keeps only the important columns in the `pca_flo` DataFrame:\n",
    "\n",
    "- Customer ID (`master_id`)\n",
    "\n",
    "- Original order and spending columns (online/offline)\n",
    "\n",
    "- The two new PCA components (`PC1`, `PC2`)\n",
    "\n",
    "It simplifies the dataset to focus on features and the reduced dimensions for further analysis or visualization. Then it shows the first few rows with `.head()`."
   ]
  },
  {
   "cell_type": "code",
   "execution_count": 394,
   "id": "92bda252-ace5-4aed-b899-5a724b7f5a1d",
   "metadata": {},
   "outputs": [
    {
     "data": {
      "text/plain": [
       "[<matplotlib.lines.Line2D at 0x2105f701f10>]"
      ]
     },
     "execution_count": 394,
     "metadata": {},
     "output_type": "execute_result"
    },
    {
     "data": {
      "image/png": "[encoded data removed]",
      "text/plain": [
       "<Figure size 640x480 with 1 Axes>"
      ]
     },
     "metadata": {},
     "output_type": "display_data"
    }
   ],
   "source": [
    "# Plot the variance explained by each component\n",
    "plt.plot(pca.explained_variance_ratio_)"
   ]
  },
  {
   "cell_type": "markdown",
   "id": "2d6db753-f8ef-4249-9a49-28b6fd893253",
   "metadata": {},
   "source": [
    "<div style=\"background-color: #e0f7fa; padding: 15px; border-radius: 8px;\">\n",
    "\n",
    "This code plots the **explained variance ratio** from PCA:\n",
    "\n",
    "- `pca.explained_variance_ratio_` shows how much of the total variance each principal component captures.\n",
    "\n",
    "- The line plot helps visualize how well the components represent the original data.\n",
    "\n",
    "It’s useful to check if using 2 components captures enough information or if more are needed."
   ]
  },
  {
   "cell_type": "code",
   "execution_count": 397,
   "id": "06dd9b37-b114-4edc-acd1-2c45317610d2",
   "metadata": {},
   "outputs": [
    {
     "data": {
      "text/plain": [
       "array([0.45637786, 0.4205302 ])"
      ]
     },
     "execution_count": 397,
     "metadata": {},
     "output_type": "execute_result"
    }
   ],
   "source": [
    "pca.explained_variance_ratio_   #tells me how much the total variance in the data set "
   ]
  },
  {
   "cell_type": "markdown",
   "id": "3c7406ca-a84b-47e0-a53e-f012a1629a0b",
   "metadata": {},
   "source": [
    "<div style=\"background-color:#f1f8e9; border-left: 6px solid #689f38; padding: 15px 20px; margin: 15px 0; border-radius: 6px;\">\n",
    "    <p style=\"font-size: 15px; line-height: 1.5; color:#333;\">\n",
    "\n",
    "These values represent the proportion of total variance in the original dataset that is explained by each principal component (PC). So:\n",
    "\n",
    "* PC1 explains ~45.64% of the total variance.\n",
    "* PC2 explains ~42.05% of the total variance.\n",
    "\n",
    "These two components explain ~87.7% of the total variance in the data, meaning that the PCA effectively reduces dimensionality while preserving most of the original information.\n",
    "\n",
    "</div>"
   ]
  },
  {
   "cell_type": "markdown",
   "id": "cf740994-e178-40f9-b3c9-cfdd02d5c01c",
   "metadata": {},
   "source": [
    "### 4.1 PCA Visualization"
   ]
  },
  {
   "cell_type": "code",
   "execution_count": 401,
   "id": "e65bcf5a-0199-42dc-b8e2-79355ec9dcdd",
   "metadata": {},
   "outputs": [
    {
     "data": {
      "image/png": "[encoded data removed]",
      "text/plain": [
       "<Figure size 700x500 with 1 Axes>"
      ]
     },
     "metadata": {},
     "output_type": "display_data"
    }
   ],
   "source": [
    "# Plot\n",
    "plt.figure(figsize=(7,5))\n",
    "plt.scatter(pca_flo['PC1'], pca_flo['PC2'], alpha=0.5)\n",
    "plt.xlabel('PC1')\n",
    "plt.ylabel('PC2')\n",
    "plt.title('PCA of Customer Data')\n",
    "plt.tight_layout()\n",
    "plt.show()"
   ]
  },
  {
   "cell_type": "markdown",
   "id": "3c01e570-c99a-4365-a48a-eeb3d2f516e7",
   "metadata": {},
   "source": [
    "<div style=\"background-color: #e0f7fa; padding: 15px; border-radius: 8px;\">\n",
    "\n",
    "This code creates a scatter plot of customers based on their two principal components from PCA:\n",
    "\n",
    "- `PC1` on the x-axis and `PC2` on the y-axis.\n",
    "\n",
    "- Each point represents a customer, showing how they are distributed in the reduced 2D space.\n",
    "\n",
    "- `alpha=0.5` makes the points semi-transparent to reduce overlap.\n",
    "\n",
    "- It helps visualize **patterns, groupings, or spread** in customer behavior after dimensionality reduction."
   ]
  },
  {
   "cell_type": "markdown",
   "id": "d4ab7e8e-f933-4cb1-8fea-f359ef76d958",
   "metadata": {},
   "source": [
    "<div style=\"background-color:#f1f8e9; border-left: 6px solid #689f38; padding: 15px 20px; margin: 15px 0; border-radius: 6px;\">\n",
    "    <h2 style=\"color:#33691e; margin-top:0;\">5. PCA Clusters</h2>\n",
    "</div>"
   ]
  },
  {
   "cell_type": "markdown",
   "id": "12d43ca1-7b71-4a4f-aa77-dee146f33a63",
   "metadata": {},
   "source": [
    "<div style=\"background-color:#f1f8e9; border-left: 6px solid #689f38; padding: 15px 20px; margin: 15px 0; border-radius: 6px;\">\n",
    "    <h2 style=\"color:#33691e; margin-top:0;\"> Apply K-Means</h2>\n",
    "    <p style=\"font-size: 15px; line-height: 1.5; color:#333;\">\n",
    "\n",
    "For consistency with the previous RFM analysis, we applied clustering on the PCA-transformed data using three clusters, representing Low, Mid and High customer value segments. This allows for a meaningful comparison between both methods in indentifying similar customer groupings.\n",
    "\n",
    "</div>"
   ]
  },
  {
   "cell_type": "code",
   "execution_count": 406,
   "id": "a33e328c-dccd-41f8-af3e-dc93b1e5e23d",
   "metadata": {},
   "outputs": [
    {
     "data": {
      "text/html": [
       "<div>\n",
       "<style scoped>\n",
       "    .dataframe tbody tr th:only-of-type {\n",
       "        vertical-align: middle;\n",
       "    }\n",
       "\n",
       "    .dataframe tbody tr th {\n",
       "        vertical-align: top;\n",
       "    }\n",
       "\n",
       "    .dataframe thead th {\n",
       "        text-align: right;\n",
       "    }\n",
       "</style>\n",
       "<table border=\"1\" class=\"dataframe\">\n",
       "  <thead>\n",
       "    <tr style=\"text-align: right;\">\n",
       "      <th></th>\n",
       "      <th>master_id</th>\n",
       "      <th>order_num_total_ever_online</th>\n",
       "      <th>order_num_total_ever_offline</th>\n",
       "      <th>customer_value_total_ever_offline</th>\n",
       "      <th>customer_value_total_ever_online</th>\n",
       "      <th>PC1</th>\n",
       "      <th>PC2</th>\n",
       "      <th>PCA_Cluster</th>\n",
       "    </tr>\n",
       "  </thead>\n",
       "  <tbody>\n",
       "    <tr>\n",
       "      <th>0</th>\n",
       "      <td>cc294636-19f0-11eb-8d74-000d3a38a36f</td>\n",
       "      <td>4.0</td>\n",
       "      <td>1.0</td>\n",
       "      <td>139.99</td>\n",
       "      <td>799.38</td>\n",
       "      <td>0.242989</td>\n",
       "      <td>-0.664321</td>\n",
       "      <td>0</td>\n",
       "    </tr>\n",
       "    <tr>\n",
       "      <th>1</th>\n",
       "      <td>f431bd5a-ab7b-11e9-a2fc-000d3a38a36f</td>\n",
       "      <td>19.0</td>\n",
       "      <td>2.0</td>\n",
       "      <td>159.97</td>\n",
       "      <td>1853.58</td>\n",
       "      <td>3.631123</td>\n",
       "      <td>-1.172974</td>\n",
       "      <td>2</td>\n",
       "    </tr>\n",
       "    <tr>\n",
       "      <th>2</th>\n",
       "      <td>69b69676-1a40-11ea-941b-000d3a38a36f</td>\n",
       "      <td>3.0</td>\n",
       "      <td>2.0</td>\n",
       "      <td>189.97</td>\n",
       "      <td>395.35</td>\n",
       "      <td>-0.132959</td>\n",
       "      <td>-0.089835</td>\n",
       "      <td>0</td>\n",
       "    </tr>\n",
       "    <tr>\n",
       "      <th>3</th>\n",
       "      <td>1854e56c-491f-11eb-806e-000d3a38a36f</td>\n",
       "      <td>1.0</td>\n",
       "      <td>1.0</td>\n",
       "      <td>39.99</td>\n",
       "      <td>81.98</td>\n",
       "      <td>-0.891833</td>\n",
       "      <td>-0.606330</td>\n",
       "      <td>0</td>\n",
       "    </tr>\n",
       "    <tr>\n",
       "      <th>4</th>\n",
       "      <td>d6ea1074-f1f5-11e9-9346-000d3a38a36f</td>\n",
       "      <td>1.0</td>\n",
       "      <td>1.0</td>\n",
       "      <td>49.99</td>\n",
       "      <td>159.99</td>\n",
       "      <td>-0.821630</td>\n",
       "      <td>-0.600227</td>\n",
       "      <td>0</td>\n",
       "    </tr>\n",
       "  </tbody>\n",
       "</table>\n",
       "</div>"
      ],
      "text/plain": [
       "                              master_id  order_num_total_ever_online  \\\n",
       "0  cc294636-19f0-11eb-8d74-000d3a38a36f                          4.0   \n",
       "1  f431bd5a-ab7b-11e9-a2fc-000d3a38a36f                         19.0   \n",
       "2  69b69676-1a40-11ea-941b-000d3a38a36f                          3.0   \n",
       "3  1854e56c-491f-11eb-806e-000d3a38a36f                          1.0   \n",
       "4  d6ea1074-f1f5-11e9-9346-000d3a38a36f                          1.0   \n",
       "\n",
       "   order_num_total_ever_offline  customer_value_total_ever_offline  \\\n",
       "0                           1.0                             139.99   \n",
       "1                           2.0                             159.97   \n",
       "2                           2.0                             189.97   \n",
       "3                           1.0                              39.99   \n",
       "4                           1.0                              49.99   \n",
       "\n",
       "   customer_value_total_ever_online       PC1       PC2  PCA_Cluster  \n",
       "0                            799.38  0.242989 -0.664321            0  \n",
       "1                           1853.58  3.631123 -1.172974            2  \n",
       "2                            395.35 -0.132959 -0.089835            0  \n",
       "3                             81.98 -0.891833 -0.606330            0  \n",
       "4                            159.99 -0.821630 -0.600227            0  "
      ]
     },
     "execution_count": 406,
     "metadata": {},
     "output_type": "execute_result"
    }
   ],
   "source": [
    "# Choose number of clusters ( 3 to match RFM: Low, Mid, High)\n",
    "kmeans = KMeans(n_clusters=3, random_state=26)\n",
    "pca_flo['PCA_Cluster'] = kmeans.fit_predict(pca_flo[['PC1', 'PC2']])\n",
    "pca_flo.head()"
   ]
  },
  {
   "cell_type": "markdown",
   "id": "ded0073f-9ae5-4797-9a48-7b8d181121c1",
   "metadata": {},
   "source": [
    "<div style=\"background-color: #e0f7fa; padding: 15px; border-radius: 8px;\">\n",
    "\n",
    "This code applies **K-Means clustering** to group customers based on their PCA-transformed data:\n",
    "\n",
    "- `n_clusters=3` tells KMeans to form **3 clusters**, matching the RFM segments: **Low, Mid, High**.\n",
    "\n",
    "- `fit_predict()` runs the clustering algorithm on `PC1` and `PC2`, assigning a cluster label to each customer.\n",
    "\n",
    "- The result is stored in a new column, `PCA_Cluster`, and the updated data is previewed with `.head()`.\n",
    "\n",
    "This helps identify natural groupings in the reduced data space."
   ]
  },
  {
   "cell_type": "markdown",
   "id": "7b906f46-1890-48a8-9132-e076952eb75d",
   "metadata": {},
   "source": [
    "### 5.1 Labeling the Clusters"
   ]
  },
  {
   "cell_type": "code",
   "execution_count": 410,
   "id": "63a5634e-c3b9-4214-a77a-05d7b1ebc95d",
   "metadata": {},
   "outputs": [
    {
     "data": {
      "text/html": [
       "<div>\n",
       "<style scoped>\n",
       "    .dataframe tbody tr th:only-of-type {\n",
       "        vertical-align: middle;\n",
       "    }\n",
       "\n",
       "    .dataframe tbody tr th {\n",
       "        vertical-align: top;\n",
       "    }\n",
       "\n",
       "    .dataframe thead th {\n",
       "        text-align: right;\n",
       "    }\n",
       "</style>\n",
       "<table border=\"1\" class=\"dataframe\">\n",
       "  <thead>\n",
       "    <tr style=\"text-align: right;\">\n",
       "      <th></th>\n",
       "      <th>master_id</th>\n",
       "      <th>order_num_total_ever_online</th>\n",
       "      <th>order_num_total_ever_offline</th>\n",
       "      <th>customer_value_total_ever_offline</th>\n",
       "      <th>customer_value_total_ever_online</th>\n",
       "      <th>PC1</th>\n",
       "      <th>PC2</th>\n",
       "      <th>PCA_Cluster</th>\n",
       "      <th>Recency</th>\n",
       "      <th>Frequency</th>\n",
       "      <th>Monetary</th>\n",
       "    </tr>\n",
       "  </thead>\n",
       "  <tbody>\n",
       "    <tr>\n",
       "      <th>0</th>\n",
       "      <td>cc294636-19f0-11eb-8d74-000d3a38a36f</td>\n",
       "      <td>4.0</td>\n",
       "      <td>1.0</td>\n",
       "      <td>139.99</td>\n",
       "      <td>799.38</td>\n",
       "      <td>0.242989</td>\n",
       "      <td>-0.664321</td>\n",
       "      <td>0</td>\n",
       "      <td>94</td>\n",
       "      <td>5.0</td>\n",
       "      <td>939.37</td>\n",
       "    </tr>\n",
       "    <tr>\n",
       "      <th>1</th>\n",
       "      <td>f431bd5a-ab7b-11e9-a2fc-000d3a38a36f</td>\n",
       "      <td>19.0</td>\n",
       "      <td>2.0</td>\n",
       "      <td>159.97</td>\n",
       "      <td>1853.58</td>\n",
       "      <td>3.631123</td>\n",
       "      <td>-1.172974</td>\n",
       "      <td>2</td>\n",
       "      <td>104</td>\n",
       "      <td>21.0</td>\n",
       "      <td>2013.55</td>\n",
       "    </tr>\n",
       "    <tr>\n",
       "      <th>2</th>\n",
       "      <td>69b69676-1a40-11ea-941b-000d3a38a36f</td>\n",
       "      <td>3.0</td>\n",
       "      <td>2.0</td>\n",
       "      <td>189.97</td>\n",
       "      <td>395.35</td>\n",
       "      <td>-0.132959</td>\n",
       "      <td>-0.089835</td>\n",
       "      <td>0</td>\n",
       "      <td>185</td>\n",
       "      <td>5.0</td>\n",
       "      <td>585.32</td>\n",
       "    </tr>\n",
       "    <tr>\n",
       "      <th>3</th>\n",
       "      <td>1854e56c-491f-11eb-806e-000d3a38a36f</td>\n",
       "      <td>1.0</td>\n",
       "      <td>1.0</td>\n",
       "      <td>39.99</td>\n",
       "      <td>81.98</td>\n",
       "      <td>-0.891833</td>\n",
       "      <td>-0.606330</td>\n",
       "      <td>0</td>\n",
       "      <td>134</td>\n",
       "      <td>2.0</td>\n",
       "      <td>121.97</td>\n",
       "    </tr>\n",
       "    <tr>\n",
       "      <th>4</th>\n",
       "      <td>d6ea1074-f1f5-11e9-9346-000d3a38a36f</td>\n",
       "      <td>1.0</td>\n",
       "      <td>1.0</td>\n",
       "      <td>49.99</td>\n",
       "      <td>159.99</td>\n",
       "      <td>-0.821630</td>\n",
       "      <td>-0.600227</td>\n",
       "      <td>0</td>\n",
       "      <td>85</td>\n",
       "      <td>2.0</td>\n",
       "      <td>209.98</td>\n",
       "    </tr>\n",
       "  </tbody>\n",
       "</table>\n",
       "</div>"
      ],
      "text/plain": [
       "                              master_id  order_num_total_ever_online  \\\n",
       "0  cc294636-19f0-11eb-8d74-000d3a38a36f                          4.0   \n",
       "1  f431bd5a-ab7b-11e9-a2fc-000d3a38a36f                         19.0   \n",
       "2  69b69676-1a40-11ea-941b-000d3a38a36f                          3.0   \n",
       "3  1854e56c-491f-11eb-806e-000d3a38a36f                          1.0   \n",
       "4  d6ea1074-f1f5-11e9-9346-000d3a38a36f                          1.0   \n",
       "\n",
       "   order_num_total_ever_offline  customer_value_total_ever_offline  \\\n",
       "0                           1.0                             139.99   \n",
       "1                           2.0                             159.97   \n",
       "2                           2.0                             189.97   \n",
       "3                           1.0                              39.99   \n",
       "4                           1.0                              49.99   \n",
       "\n",
       "   customer_value_total_ever_online       PC1       PC2  PCA_Cluster  Recency  \\\n",
       "0                            799.38  0.242989 -0.664321            0       94   \n",
       "1                           1853.58  3.631123 -1.172974            2      104   \n",
       "2                            395.35 -0.132959 -0.089835            0      185   \n",
       "3                             81.98 -0.891833 -0.606330            0      134   \n",
       "4                            159.99 -0.821630 -0.600227            0       85   \n",
       "\n",
       "   Frequency  Monetary  \n",
       "0        5.0    939.37  \n",
       "1       21.0   2013.55  \n",
       "2        5.0    585.32  \n",
       "3        2.0    121.97  \n",
       "4        2.0    209.98  "
      ]
     },
     "execution_count": 410,
     "metadata": {},
     "output_type": "execute_result"
    }
   ],
   "source": [
    "# Merge the two DataFrames\n",
    "merged_df = pd.merge(pca_flo, rfm_flo[['master_id', 'Recency', 'Frequency', 'Monetary']], on='master_id', how='left')\n",
    "\n",
    "merged_df.head()"
   ]
  },
  {
   "cell_type": "markdown",
   "id": "572679ab-c2a7-4090-a57a-84270443e3fc",
   "metadata": {},
   "source": [
    "<div style=\"background-color: #e0f7fa; padding: 15px; border-radius: 8px;\">\n",
    "\n",
    "This code merges the **PCA + clustering** results with the **RFM metrics**:\n",
    "\n",
    "- It joins `pca_flo` and a subset of `rfm_flo` (with `master_id`, `Recency`, `Frequency`, `Monetary`) using a left join on `master_id`.\n",
    "\n",
    "- The resulting `merged_df` contains both:\n",
    "\n",
    "    - PCA-based cluster labels (`PCA_Cluster`)\n",
    "\n",
    "    - RFM values for each customer\n",
    "\n",
    "This combined view allows for comparison between **RFM behavior** and **PCA-based clustering**."
   ]
  },
  {
   "cell_type": "code",
   "execution_count": 413,
   "id": "56b467eb-36a0-4e62-a8ea-051481b874b5",
   "metadata": {},
   "outputs": [
    {
     "data": {
      "text/html": [
       "<div>\n",
       "<style scoped>\n",
       "    .dataframe tbody tr th:only-of-type {\n",
       "        vertical-align: middle;\n",
       "    }\n",
       "\n",
       "    .dataframe tbody tr th {\n",
       "        vertical-align: top;\n",
       "    }\n",
       "\n",
       "    .dataframe thead th {\n",
       "        text-align: right;\n",
       "    }\n",
       "</style>\n",
       "<table border=\"1\" class=\"dataframe\">\n",
       "  <thead>\n",
       "    <tr style=\"text-align: right;\">\n",
       "      <th></th>\n",
       "      <th>Recency</th>\n",
       "      <th>Frequency</th>\n",
       "      <th>Monetary</th>\n",
       "      <th>CustomerCount</th>\n",
       "    </tr>\n",
       "    <tr>\n",
       "      <th>PCA_Cluster</th>\n",
       "      <th></th>\n",
       "      <th></th>\n",
       "      <th></th>\n",
       "      <th></th>\n",
       "    </tr>\n",
       "  </thead>\n",
       "  <tbody>\n",
       "    <tr>\n",
       "      <th>0</th>\n",
       "      <td>135.77</td>\n",
       "      <td>4.23</td>\n",
       "      <td>619.68</td>\n",
       "      <td>18712</td>\n",
       "    </tr>\n",
       "    <tr>\n",
       "      <th>1</th>\n",
       "      <td>152.93</td>\n",
       "      <td>55.50</td>\n",
       "      <td>6431.67</td>\n",
       "      <td>14</td>\n",
       "    </tr>\n",
       "    <tr>\n",
       "      <th>2</th>\n",
       "      <td>97.70</td>\n",
       "      <td>16.65</td>\n",
       "      <td>2705.55</td>\n",
       "      <td>1219</td>\n",
       "    </tr>\n",
       "  </tbody>\n",
       "</table>\n",
       "</div>"
      ],
      "text/plain": [
       "             Recency  Frequency  Monetary  CustomerCount\n",
       "PCA_Cluster                                             \n",
       "0             135.77       4.23    619.68          18712\n",
       "1             152.93      55.50   6431.67             14\n",
       "2              97.70      16.65   2705.55           1219"
      ]
     },
     "execution_count": 413,
     "metadata": {},
     "output_type": "execute_result"
    }
   ],
   "source": [
    "# Summary of Clusters\n",
    "segment_summary = merged_df.groupby('PCA_Cluster').agg({\n",
    "    'Recency': 'mean',\n",
    "    'Frequency': 'mean',\n",
    "    'Monetary': 'mean',\n",
    "    'master_id': 'count'\n",
    "}).rename(columns={'master_id': 'CustomerCount'}).round(2)\n",
    "\n",
    "segment_summary"
   ]
  },
  {
   "cell_type": "markdown",
   "id": "ef52fec9-4fca-4ffa-8675-680e9aaf2c68",
   "metadata": {},
   "source": [
    "<div style=\"background-color: #e0f7fa; padding: 15px; border-radius: 8px;\">\n",
    "\n",
    "This code summarizes the **PCA-based clusters** by calculating for each cluster:\n",
    "\n",
    "- **Average Recency, Frequency, and Monetary** values.\n",
    "\n",
    "- **CustomerCount**: total number of customers in each cluster (`master_id` count).\n",
    "\n",
    "- Results are rounded to 2 decimal places for readability.\n",
    "\n",
    "This helps interpret how each **PCA_Cluster** behaves in terms of purchasing behavior, similar to how RFM segments were analyzed."
   ]
  },
  {
   "cell_type": "markdown",
   "id": "ecc34863-8f76-460c-8682-a8f355464df3",
   "metadata": {},
   "source": [
    "<div style=\"background-color:#f1f8e9; border-left: 6px solid #689f38; padding: 15px 20px; margin: 15px 0; border-radius: 6px;\">\n",
    "    <h2 style=\"color:#33691e; margin-top:0;\"> Labeling the clusters after understanding their behavior</h2>\n",
    "    <p style=\"font-size: 15px; line-height: 1.5; color:#333;\">\n",
    "\n",
    "From what has been obtained, it can be interpreted that:\n",
    "\n",
    "**Cluster 1:** Related to the highest frequency, highest spend and medium recency can be considered as a very loyal and valuable client, even if not super recent. **High Value**\n",
    "\n",
    "**Cluster 2:** Related to the most recent customers with the lowest recency they bought recently, with medium frequency and spend. **Mid Value**\n",
    "\n",
    "**Cluster 0:** Related to the lowest frequency, lowest spend and not a bad recency, but these are infrequent and low-value buyers. **Low Value**\n",
    "\n",
    "</div>"
   ]
  },
  {
   "cell_type": "code",
   "execution_count": 417,
   "id": "871c0135-d5d0-4710-b934-76bc6502c5a0",
   "metadata": {},
   "outputs": [
    {
     "data": {
      "text/html": [
       "<div>\n",
       "<style scoped>\n",
       "    .dataframe tbody tr th:only-of-type {\n",
       "        vertical-align: middle;\n",
       "    }\n",
       "\n",
       "    .dataframe tbody tr th {\n",
       "        vertical-align: top;\n",
       "    }\n",
       "\n",
       "    .dataframe thead th {\n",
       "        text-align: right;\n",
       "    }\n",
       "</style>\n",
       "<table border=\"1\" class=\"dataframe\">\n",
       "  <thead>\n",
       "    <tr style=\"text-align: right;\">\n",
       "      <th></th>\n",
       "      <th>master_id</th>\n",
       "      <th>order_num_total_ever_online</th>\n",
       "      <th>order_num_total_ever_offline</th>\n",
       "      <th>customer_value_total_ever_offline</th>\n",
       "      <th>customer_value_total_ever_online</th>\n",
       "      <th>PC1</th>\n",
       "      <th>PC2</th>\n",
       "      <th>PCA_Cluster</th>\n",
       "      <th>PCA_Segment</th>\n",
       "    </tr>\n",
       "  </thead>\n",
       "  <tbody>\n",
       "    <tr>\n",
       "      <th>0</th>\n",
       "      <td>cc294636-19f0-11eb-8d74-000d3a38a36f</td>\n",
       "      <td>4.0</td>\n",
       "      <td>1.0</td>\n",
       "      <td>139.99</td>\n",
       "      <td>799.38</td>\n",
       "      <td>0.242989</td>\n",
       "      <td>-0.664321</td>\n",
       "      <td>0</td>\n",
       "      <td>Low</td>\n",
       "    </tr>\n",
       "    <tr>\n",
       "      <th>1</th>\n",
       "      <td>f431bd5a-ab7b-11e9-a2fc-000d3a38a36f</td>\n",
       "      <td>19.0</td>\n",
       "      <td>2.0</td>\n",
       "      <td>159.97</td>\n",
       "      <td>1853.58</td>\n",
       "      <td>3.631123</td>\n",
       "      <td>-1.172974</td>\n",
       "      <td>2</td>\n",
       "      <td>Mid</td>\n",
       "    </tr>\n",
       "    <tr>\n",
       "      <th>2</th>\n",
       "      <td>69b69676-1a40-11ea-941b-000d3a38a36f</td>\n",
       "      <td>3.0</td>\n",
       "      <td>2.0</td>\n",
       "      <td>189.97</td>\n",
       "      <td>395.35</td>\n",
       "      <td>-0.132959</td>\n",
       "      <td>-0.089835</td>\n",
       "      <td>0</td>\n",
       "      <td>Low</td>\n",
       "    </tr>\n",
       "    <tr>\n",
       "      <th>3</th>\n",
       "      <td>1854e56c-491f-11eb-806e-000d3a38a36f</td>\n",
       "      <td>1.0</td>\n",
       "      <td>1.0</td>\n",
       "      <td>39.99</td>\n",
       "      <td>81.98</td>\n",
       "      <td>-0.891833</td>\n",
       "      <td>-0.606330</td>\n",
       "      <td>0</td>\n",
       "      <td>Low</td>\n",
       "    </tr>\n",
       "    <tr>\n",
       "      <th>4</th>\n",
       "      <td>d6ea1074-f1f5-11e9-9346-000d3a38a36f</td>\n",
       "      <td>1.0</td>\n",
       "      <td>1.0</td>\n",
       "      <td>49.99</td>\n",
       "      <td>159.99</td>\n",
       "      <td>-0.821630</td>\n",
       "      <td>-0.600227</td>\n",
       "      <td>0</td>\n",
       "      <td>Low</td>\n",
       "    </tr>\n",
       "  </tbody>\n",
       "</table>\n",
       "</div>"
      ],
      "text/plain": [
       "                              master_id  order_num_total_ever_online  \\\n",
       "0  cc294636-19f0-11eb-8d74-000d3a38a36f                          4.0   \n",
       "1  f431bd5a-ab7b-11e9-a2fc-000d3a38a36f                         19.0   \n",
       "2  69b69676-1a40-11ea-941b-000d3a38a36f                          3.0   \n",
       "3  1854e56c-491f-11eb-806e-000d3a38a36f                          1.0   \n",
       "4  d6ea1074-f1f5-11e9-9346-000d3a38a36f                          1.0   \n",
       "\n",
       "   order_num_total_ever_offline  customer_value_total_ever_offline  \\\n",
       "0                           1.0                             139.99   \n",
       "1                           2.0                             159.97   \n",
       "2                           2.0                             189.97   \n",
       "3                           1.0                              39.99   \n",
       "4                           1.0                              49.99   \n",
       "\n",
       "   customer_value_total_ever_online       PC1       PC2  PCA_Cluster  \\\n",
       "0                            799.38  0.242989 -0.664321            0   \n",
       "1                           1853.58  3.631123 -1.172974            2   \n",
       "2                            395.35 -0.132959 -0.089835            0   \n",
       "3                             81.98 -0.891833 -0.606330            0   \n",
       "4                            159.99 -0.821630 -0.600227            0   \n",
       "\n",
       "  PCA_Segment  \n",
       "0         Low  \n",
       "1         Mid  \n",
       "2         Low  \n",
       "3         Low  \n",
       "4         Low  "
      ]
     },
     "execution_count": 417,
     "metadata": {},
     "output_type": "execute_result"
    }
   ],
   "source": [
    "# Labeling the clusters\n",
    "cluster_labels = {\n",
    "    1: 'High',\n",
    "    2: 'Mid',\n",
    "    0: 'Low'\n",
    "}\n",
    "\n",
    "pca_flo['PCA_Segment'] = pca_flo['PCA_Cluster'].map(cluster_labels)\n",
    "\n",
    "pca_flo.head()"
   ]
  },
  {
   "cell_type": "markdown",
   "id": "cd22dfc7-41b9-410d-875d-a17342c5c828",
   "metadata": {},
   "source": [
    "<div style=\"background-color: #e0f7fa; padding: 15px; border-radius: 8px;\">\n",
    "\n",
    "This code assigns **segment labels** to the PCA clusters:\n",
    "\n",
    "- A dictionary `cluster_labels` maps each **cluster number** to a **meaningful name**: `'Low'`, `'Mid'`, or `'High'`.\n",
    "\n",
    "- `.map()` is used to create a new column `PCA_Segment` in `pca_flo`, replacing numeric cluster IDs with the corresponding segment names.\n",
    "\n",
    "This makes cluster results **easier to interpret and compare** with RFM segments."
   ]
  },
  {
   "cell_type": "markdown",
   "id": "d85a779d-3b1a-4fb1-89f9-cac7b43fb016",
   "metadata": {},
   "source": [
    "### 5.2 Visualize the PCA Clusters"
   ]
  },
  {
   "cell_type": "code",
   "execution_count": 421,
   "id": "1bf30310-9016-483b-ad4c-b2aeb8cf1bf2",
   "metadata": {},
   "outputs": [
    {
     "data": {
      "image/png": "[encoded data removed]",
      "text/plain": [
       "<Figure size 600x400 with 1 Axes>"
      ]
     },
     "metadata": {},
     "output_type": "display_data"
    }
   ],
   "source": [
    "# Bar chart for PCA segments\n",
    "\n",
    "# 1. Prepare counts & colors\n",
    "PCAsegment_counts = pca_flo['PCA_Segment'].value_counts().reindex(['Low','Mid','High'])\n",
    "colors = ['#d62728','#ff7f0e','#2ca02c']  # Low, Mid, High\n",
    "\n",
    "# 2. Plot in one line, grab the Axes\n",
    "ax = PCAsegment_counts.plot.bar(\n",
    "    color=colors,\n",
    "    figsize=(6,4),\n",
    "    title='Customer Count by PCA Segment'\n",
    ")\n",
    "\n",
    "# 3. Tidy up axes\n",
    "ax.set_xlabel('PCA_Segment')\n",
    "ax.set_ylabel('Number of Customers')\n",
    "plt.ylim(0, PCAsegment_counts.max()*1.1)   # headroom for labels\n",
    "\n",
    "# 4. Annotate counts\n",
    "for i, v in enumerate(PCAsegment_counts):\n",
    "    ax.text(i, v + PCAsegment_counts.max()*0.02, str(v), ha='center')\n",
    "\n",
    "plt.tight_layout()\n",
    "plt.show()"
   ]
  },
  {
   "cell_type": "markdown",
   "id": "7b82cb52-b390-409a-bacd-5a47d96cb39e",
   "metadata": {},
   "source": [
    "<div style=\"background-color: #e0f7fa; padding: 15px; border-radius: 8px;\">\n",
    "\n",
    "This code creates a bar chart showing the number of customers in each **PCA-based segment**:\n",
    "\n",
    "- **Counts** the number of customers per `PCA_Segment` (`Low`, `Mid`, `High`) and sets custom colors.\n",
    "\n",
    "- **Plots** the bar chart with a title and labeled axes.\n",
    "\n",
    "- **Adjusts** the y-axis to leave space above bars.\n",
    "\n",
    "- **Adds text labels** above each bar showing the actual count.\n",
    "\n",
    "This visual helps understand the **distribution of customers across PCA segments.**"
   ]
  },
  {
   "cell_type": "markdown",
   "id": "19ce2f4a-d06a-48de-b6a5-4e55901e52f6",
   "metadata": {},
   "source": [
    "<div style=\"background-color:#f1f8e9; border-left: 6px solid #689f38; padding: 15px 20px; margin: 15px 0; border-radius: 6px;\">\n",
    "    <h2 style=\"color:#33691e; margin-top:0;\"> PCA Clustering Bar Interpretation</h2>\n",
    "    <p style=\"font-size: 15px; line-height: 1.5; color:#333;\">\n",
    "\n",
    "After applying PCA for dimensionality reduction and clustering customers into three segments, the resulting groups show significant imbalance in size and customer behavior characteristics.\n",
    "\n",
    "Cluster 0/Low is the largest group, containing 18,712 customers, and is characterized by low frequency and low monetary value, along with relatively high recency. This suggests the majority of customers in the dataset are infrequent or inactive shoppers with low recent engagement.\n",
    "\n",
    "Cluster 1/High, on the other hand, is a very small segment with only 14 customers, but these individuals display very high purchase frequency and high spending, despite having the highest recency (152.93). This could indicate a group of outlier customers who were highly valuable but possibly haven’t interacted with the business recently.\n",
    "\n",
    "Cluster 2/Mid includes 1,219 customers with moderate frequency, higher spending, and better recency than the other groups. This cluster may represent engaged and fairly valuable customers who are still active.\n",
    "\n",
    "Overall, the clustering reveals a core group of low-engagement customers, a small elite group of high-value customers, and a moderately sized group with good engagement and value. However, the extreme size difference between clusters suggests that customer behavior in this dataset is highly skewed, and further analysis may be needed to ensure meaningful segmentation.\n",
    "\n",
    "</div>"
   ]
  },
  {
   "cell_type": "code",
   "execution_count": 425,
   "id": "33987f7e-82da-483c-9044-178bf12143a8",
   "metadata": {},
   "outputs": [
    {
     "data": {
      "image/png": "[encoded data removed]",
      "text/plain": [
       "<Figure size 700x500 with 1 Axes>"
      ]
     },
     "metadata": {},
     "output_type": "display_data"
    }
   ],
   "source": [
    "# Plot the scatterplot\n",
    "plt.figure(figsize=(7,5))\n",
    "sns.scatterplot(data=pca_flo, x='PC1', y='PC2', hue='PCA_Segment', palette='Set2')\n",
    "plt.title('Customer Clusters on PCA Dimensions')\n",
    "plt.tight_layout()\n",
    "plt.show()"
   ]
  },
  {
   "cell_type": "markdown",
   "id": "7d3eefbd-4086-4142-94ab-78cad2db6964",
   "metadata": {},
   "source": [
    "<div style=\"background-color: #e0f7fa; padding: 15px; border-radius: 8px;\">\n",
    "\n",
    "This code creates a **scatter plot** to visualize customer clusters based on PCA components:\n",
    "\n",
    "- `PC1` and `PC2` are plotted on the x and y axes (from PCA).\n",
    "\n",
    "- Points are colored by their `PCA_Segment` (Low, Mid, High) using the Set2 color palette.\n",
    "\n",
    "- `sns.scatterplot()` makes the plot with a legend showing segment names.\n",
    "\n",
    "- It helps you **visually understand how customer segments are grouped** in the reduced feature space."
   ]
  },
  {
   "cell_type": "markdown",
   "id": "77c64f03-309f-4f54-aaf8-36ea284d5558",
   "metadata": {},
   "source": [
    "<div style=\"background-color:#f1f8e9; border-left: 6px solid #689f38; padding: 15px 20px; margin: 15px 0; border-radius: 6px;\">\n",
    "    <h2 style=\"color:#33691e; margin-top:0;\"> Interpretation of PCA Clustering</h2>\n",
    "    <p style=\"font-size: 15px; line-height: 1.5; color:#333;\">\n",
    "\n",
    "The scatter plot displays customer groups by mapping them onto the first two principal components (PC1 and PC2) and each point represents a single customer. The groupings were created by unsupervised learning (K-Means) and labeled Low, Mid, and High to correspond with their relative customer value, similar to the RFM segmentation.\n",
    "\n",
    "The Low segment (green) forms a close cluster at the origin, indicating customers with low variation in principal component scores and therefore low buying activity or involvement. These customers are more or less homogeneous in composition and form the core of the sample.\n",
    "\n",
    "The Mid segment (orange) goes further along PC1, reflecting greater customer-behavior variability than the Low segment. The Mid segment would therefore consist of average-value customers with moderate differences in frequency or expenditure behavior.\n",
    "\n",
    "The High segment (blue/purple) is more spread out and further along PC2, which means this segment has fewer but more extreme customers. These might be high spenders or highly active, as they show stronger deviation from the majority of the customer base.\n",
    "\n",
    "The plot is also readily able to show good separation between segments, that is, Low and High value groups. This indicates that PCA is able to effectively reveal latent structure in the data, and clustering based on PCA dimensions provides meaningful discrimination of customer types.\n",
    "\n",
    "\n",
    "</div>"
   ]
  },
  {
   "cell_type": "markdown",
   "id": "1cc0a6bf-cece-490e-b3d1-761cb5a6aa45",
   "metadata": {},
   "source": [
    "<div style=\"background-color:#f1f8e9; border-left: 6px solid #689f38; padding: 15px 20px; margin: 15px 0; border-radius: 6px;\">\n",
    "    <h2 style=\"color:#33691e; margin-top:0;\">6. Compare PCA Clusters vs RFM Segments</h2>\n",
    "</div>"
   ]
  },
  {
   "cell_type": "markdown",
   "id": "baea6de4-7caa-48a1-85ba-586998fe3d9f",
   "metadata": {},
   "source": [
    "### 6.1 Merge the Segments"
   ]
  },
  {
   "cell_type": "code",
   "execution_count": 431,
   "id": "a0521013-043e-432e-a794-c47baf220590",
   "metadata": {},
   "outputs": [
    {
     "data": {
      "text/html": [
       "<div>\n",
       "<style scoped>\n",
       "    .dataframe tbody tr th:only-of-type {\n",
       "        vertical-align: middle;\n",
       "    }\n",
       "\n",
       "    .dataframe tbody tr th {\n",
       "        vertical-align: top;\n",
       "    }\n",
       "\n",
       "    .dataframe thead th {\n",
       "        text-align: right;\n",
       "    }\n",
       "</style>\n",
       "<table border=\"1\" class=\"dataframe\">\n",
       "  <thead>\n",
       "    <tr style=\"text-align: right;\">\n",
       "      <th></th>\n",
       "      <th>master_id</th>\n",
       "      <th>Segment</th>\n",
       "      <th>PCA_Segment</th>\n",
       "      <th>PC1</th>\n",
       "      <th>PC2</th>\n",
       "    </tr>\n",
       "  </thead>\n",
       "  <tbody>\n",
       "    <tr>\n",
       "      <th>0</th>\n",
       "      <td>cc294636-19f0-11eb-8d74-000d3a38a36f</td>\n",
       "      <td>Mid</td>\n",
       "      <td>Low</td>\n",
       "      <td>0.242989</td>\n",
       "      <td>-0.664321</td>\n",
       "    </tr>\n",
       "    <tr>\n",
       "      <th>1</th>\n",
       "      <td>f431bd5a-ab7b-11e9-a2fc-000d3a38a36f</td>\n",
       "      <td>High</td>\n",
       "      <td>Mid</td>\n",
       "      <td>3.631123</td>\n",
       "      <td>-1.172974</td>\n",
       "    </tr>\n",
       "    <tr>\n",
       "      <th>2</th>\n",
       "      <td>69b69676-1a40-11ea-941b-000d3a38a36f</td>\n",
       "      <td>Mid</td>\n",
       "      <td>Low</td>\n",
       "      <td>-0.132959</td>\n",
       "      <td>-0.089835</td>\n",
       "    </tr>\n",
       "    <tr>\n",
       "      <th>3</th>\n",
       "      <td>1854e56c-491f-11eb-806e-000d3a38a36f</td>\n",
       "      <td>Low</td>\n",
       "      <td>Low</td>\n",
       "      <td>-0.891833</td>\n",
       "      <td>-0.606330</td>\n",
       "    </tr>\n",
       "    <tr>\n",
       "      <th>4</th>\n",
       "      <td>d6ea1074-f1f5-11e9-9346-000d3a38a36f</td>\n",
       "      <td>Low</td>\n",
       "      <td>Low</td>\n",
       "      <td>-0.821630</td>\n",
       "      <td>-0.600227</td>\n",
       "    </tr>\n",
       "  </tbody>\n",
       "</table>\n",
       "</div>"
      ],
      "text/plain": [
       "                              master_id Segment PCA_Segment       PC1  \\\n",
       "0  cc294636-19f0-11eb-8d74-000d3a38a36f     Mid         Low  0.242989   \n",
       "1  f431bd5a-ab7b-11e9-a2fc-000d3a38a36f    High         Mid  3.631123   \n",
       "2  69b69676-1a40-11ea-941b-000d3a38a36f     Mid         Low -0.132959   \n",
       "3  1854e56c-491f-11eb-806e-000d3a38a36f     Low         Low -0.891833   \n",
       "4  d6ea1074-f1f5-11e9-9346-000d3a38a36f     Low         Low -0.821630   \n",
       "\n",
       "        PC2  \n",
       "0 -0.664321  \n",
       "1 -1.172974  \n",
       "2 -0.089835  \n",
       "3 -0.606330  \n",
       "4 -0.600227  "
      ]
     },
     "execution_count": 431,
     "metadata": {},
     "output_type": "execute_result"
    }
   ],
   "source": [
    "# Merging the datasets\n",
    "comparison_df = pd.merge(rfm_flo[['master_id', 'Segment']], pca_flo[['master_id', 'PCA_Segment','PC1', 'PC2']], on='master_id')\n",
    "\n",
    "# Previewing the merged dataset\n",
    "comparison_df.head()"
   ]
  },
  {
   "cell_type": "markdown",
   "id": "89eabf1f-b34a-47e8-9a57-357abcf5166f",
   "metadata": {},
   "source": [
    "<div style=\"background-color: #e0f7fa; padding: 15px; border-radius: 8px;\">\n",
    "\n",
    "This code merges RFM and PCA segmentation results into one DataFrame:\n",
    "\n",
    "- Joins `rfm_flo` (with `Segment`) and `pca_flo` (with `PCA_Segment`, `PC1`, and `PC2`) on `master_id`.\n",
    "\n",
    "- The resulting `comparison_df` lets you **compare RFM segments vs. PCA-based segments** for each customer.\n",
    "\n",
    "- The `.head()` function previews the first few rows."
   ]
  },
  {
   "cell_type": "markdown",
   "id": "b97da4b4-4147-40a5-ae4f-f7cc0896ad67",
   "metadata": {},
   "source": [
    "### 6.2 Create the Cross Tab (Confusion Matrix)"
   ]
  },
  {
   "cell_type": "code",
   "execution_count": 435,
   "id": "f478725d-7fb7-4e12-9e88-c54156bb116a",
   "metadata": {},
   "outputs": [
    {
     "name": "stdout",
     "output_type": "stream",
     "text": [
      "PCA_Segment      High         Low        Mid\n",
      "Segment                                     \n",
      "Low          0.000000  100.000000   0.000000\n",
      "Mid          0.050742   98.185970   1.763288\n",
      "High         0.201654   78.019762  21.778584\n"
     ]
    },
    {
     "data": {
      "image/png": "[encoded data removed]",
      "text/plain": [
       "<Figure size 600x400 with 2 Axes>"
      ]
     },
     "metadata": {},
     "output_type": "display_data"
    }
   ],
   "source": [
    "# Cross-tabulate\n",
    "confusion = pd.crosstab(comparison_df['Segment'], comparison_df['PCA_Segment'], normalize='index') * 100\n",
    "\n",
    "print (confusion)\n",
    "\n",
    "# Plot heatmap\n",
    "plt.figure(figsize=(6, 4))\n",
    "sns.heatmap(confusion, annot=True, fmt=\".1f\", cmap=\"YlGnBu\")\n",
    "plt.title('RFM Segment vs PCA Segment (%)')\n",
    "plt.xlabel('PCA Segment')\n",
    "plt.ylabel('RFM Segment')\n",
    "plt.tight_layout()\n",
    "plt.show()"
   ]
  },
  {
   "cell_type": "markdown",
   "id": "9653a6b1-a297-4d9b-9ba9-1dc25546a14a",
   "metadata": {},
   "source": [
    "<div style=\"background-color: #e0f7fa; padding: 15px; border-radius: 8px;\">\n",
    "\n",
    "This code compares the **RFM segments** with the **PCA-based segments** using a confusion matrix and heatmap:\n",
    "\n",
    "- `pd.crosstab()` creates a table showing the percentage of customers in each RFM segment that fall into each PCA segment (`normalize='index'` calculates row-wise percentages).\n",
    "\n",
    "- The heatmap visualizes these percentages with annotations, making it easy to see how closely the two segmentations align.\n",
    "\n",
    "- Axes and title label the chart for clarity.\n",
    "\n",
    "This helps assess the **agreement or differences** between RFM and PCA cluster groupings."
   ]
  },
  {
   "cell_type": "markdown",
   "id": "b4f28015-aa54-4fd2-a04a-4b4e22a55089",
   "metadata": {},
   "source": [
    "<div style=\"background-color:#f1f8e9; border-left: 6px solid #689f38; padding: 15px 20px; margin: 15px 0; border-radius: 6px;\">\n",
    "    <h2 style=\"color:#33691e; margin-top:0;\"> Confusion Matrix interpretation </h2>\n",
    "    <p style=\"font-size: 15px; line-height: 1.5; color:#333;\">\n",
    "\n",
    "The comparison between RFM and PCA-based segmentation reveals a notable misalignment, particularly in identifying high-value customers. While both methods agree on classifying low-value customers, evidenced by 100% of RFM-Low also being PCA-Low, the agreement significantly drops for mid and high value segments. A large portion of RFM-Mid and even 78% of RFM-High customers are placed in the PCA-Low segment, indicating that PCA may be underestimating customer value. This suggests that PCA, while useful for dimensionality reduction, may overlook important behavioral nuances captured by RFM, especially if key features such as monetary value or recency are not adequately represented in the principal components. Therefore, RFM appears to provide more interpretable and targeted segmentation for customer value analysis in this context.\n",
    "\n",
    "\n",
    "</div>\n",
    "\n"
   ]
  },
  {
   "cell_type": "code",
   "execution_count": 439,
   "id": "a4049942-8c7f-4b80-a760-fb96be4e8e66",
   "metadata": {},
   "outputs": [
    {
     "data": {
      "image/png": "[encoded data removed]",
      "text/plain": [
       "<Figure size 1000x400 with 2 Axes>"
      ]
     },
     "metadata": {},
     "output_type": "display_data"
    }
   ],
   "source": [
    "# Count of each segment\n",
    "rfm_counts = comparison_df['Segment'].value_counts().reindex(['Low', 'Mid', 'High'])\n",
    "pca_counts = comparison_df['PCA_Segment'].value_counts().reindex(['Low', 'Mid', 'High'])\n",
    "\n",
    "# Plot\n",
    "fig, axes = plt.subplots(1, 2, figsize=(10, 4))\n",
    "\n",
    "# RFM bar chart\n",
    "axes[0].bar(rfm_counts.index, rfm_counts.values, color=['#d62728', '#ff7f0e', '#2ca02c'])\n",
    "axes[0].set_title('RFM Segments')\n",
    "axes[0].set_ylabel('Number of Customers')\n",
    "\n",
    "# PCA bar chart\n",
    "axes[1].bar(pca_counts.index, pca_counts.values, color=['#d62728', '#ff7f0e', '#2ca02c'])\n",
    "axes[1].set_title('PCA Clusters')\n",
    "axes[1].set_ylabel('Number of Customers')\n",
    "\n",
    "plt.tight_layout()\n",
    "plt.show()"
   ]
  },
  {
   "cell_type": "markdown",
   "id": "7d0221c0-8614-4142-9483-9abd95b5e337",
   "metadata": {},
   "source": [
    "<div style=\"background-color: #e0f7fa; padding: 15px; border-radius: 8px;\">\n",
    "\n",
    "This code creates **side-by-side bar charts** to compare the number of customers in each segment from RFM and PCA clustering:\n",
    "\n",
    "- It counts customers per segment (`Low`, `Mid`, `High`) for both methods.\n",
    "\n",
    "- Creates two bars plots next to each other: one for RFM segments, one for PCA clusters.\n",
    "\n",
    "- Colors match across charts for easy comparison.\n",
    "\n",
    "- Titles and labels clearly indicate which chart corresponds to which segmentation.\n",
    "\n",
    "- This visualizes the **distribution differences or similarities** between the two segmentations."
   ]
  },
  {
   "cell_type": "markdown",
   "id": "c84e653a-6ef9-4d2f-9ffd-22360b806991",
   "metadata": {},
   "source": [
    "<div style=\"background-color:#f1f8e9; border-left: 6px solid #689f38; padding: 15px 20px; margin: 15px 0; border-radius: 6px;\">\n",
    "    <h2 style=\"color:#33691e; margin-top:0;\"> Distribution interpretation </h2>\n",
    "    <p style=\"font-size: 15px; line-height: 1.5; color:#333;\">\n",
    "\n",
    "The distribution of customer segments differs significantly between the RFM and PCA approaches. The RFM segmentation shows a relatively balanced distribution across Low (≈7,100), Mid (≈7,900), and High (≈5,000) value segments, suggesting that it effectively distinguishes varying levels of customer engagement and value. In contrast, the PCA clustering overwhelmingly classifies the majority of customers as Low value (≈18,500), with only a small fraction assigned to Mid and virtually none to the High segment.\n",
    "\n",
    "This imbalance suggests that the PCA-based clustering may not be capturing the same behavioral distinctions as RFM. PCA, being a dimensionality reduction technique, might be compressing the customer features in a way that obscures the characteristics that define mid- and high-value customers. As a result, it tends to group a wide variety of behaviors into a single dominant \"Low\" segment. This further reinforces the insight that RFM provides a more granular and interpretable segmentation when customer value differentiation is a key objective.\n",
    "\n",
    "\n",
    "</div>"
   ]
  },
  {
   "cell_type": "code",
   "execution_count": 443,
   "id": "51102d18-4330-44a8-bbfb-a2f00957c041",
   "metadata": {},
   "outputs": [
    {
     "data": {
      "image/png": "[encoded data removed]",
      "text/plain": [
       "<Figure size 1200x500 with 2 Axes>"
      ]
     },
     "metadata": {},
     "output_type": "display_data"
    }
   ],
   "source": [
    "# Plot PCA scatter by RFM segment\n",
    "plt.figure(figsize=(12, 5))\n",
    "\n",
    "# Subplot 1: by RFM segment\n",
    "plt.subplot(1, 2, 1)\n",
    "sns.scatterplot(data=comparison_df, x='PC1', y='PC2', hue='Segment', palette='Set1')\n",
    "plt.title('PCA Scatter Colored by RFM Segment')\n",
    "\n",
    "# Subplot 2: by PCA cluster\n",
    "plt.subplot(1, 2, 2)\n",
    "sns.scatterplot(data=comparison_df, x='PC1', y='PC2', hue='PCA_Segment', palette='Set2')\n",
    "plt.title('PCA Scatter Colored by PCA Cluster')\n",
    "\n",
    "plt.tight_layout()\n",
    "plt.show()"
   ]
  },
  {
   "cell_type": "markdown",
   "id": "7722bd21-6f17-4149-bb68-a0debb976cda",
   "metadata": {},
   "source": [
    "<div style=\"background-color: #e0f7fa; padding: 15px; border-radius: 8px;\">\n",
    "\n",
    "This code creates two side-by-side scatter plots of customers on PCA dimensions:\n",
    "\n",
    "- Left plot: Points colored by **RFM Segment** using the `Set1` palette.\n",
    "\n",
    "- Right plot: Points colored by **PCA Cluster** using the `Set2` palette.\n",
    "\n",
    "Both plots use `PC1` and `PC2` as axes to visualize how customers group based on the two segmentation methods.\n",
    "\n",
    "This comparison helps you visually assess how well the RFM and PCA clusterings match or differ."
   ]
  },
  {
   "cell_type": "markdown",
   "id": "1759afe5-d1ee-4ecb-8bd2-ec819cb11131",
   "metadata": {},
   "source": [
    "<div style=\"background-color:#f1f8e9; border-left: 6px solid #689f38; padding: 15px 20px; margin: 15px 0; border-radius: 6px;\">\n",
    "<h2 style=\"color:#33691e; margin-top:0;\"> Distribution interpretation </h2>\n",
    "    <p style=\"font-size: 15px; line-height: 1.5; color:#333;\">\n",
    "\n",
    "**1. RFM Segment Distribution (Left Plot)**\n",
    "* RFM-High (green) customers are spread widely along both PC1 and PC2 axes, occupying much of the space.\n",
    "* RFM-Mid (blue) and especially RFM-Low (red) are tightly clustered near the origin.\n",
    "* This indicates that RFM-High customers exhibit greater behavioral variability, which is captured by PCA in the spread across principal components.\n",
    "\n",
    "**2. PCA Cluster Distribution (Right Plot)**\n",
    "* PCA-Low (green) customers are tightly packed near the origin (low PC1 and PC2 values).\n",
    "* PCA-Mid (orange) spreads moderately across PC1, especially in the horizontal direction.\n",
    "* PCA-High (blue) customers appear only in the extreme upper PC2 region, with very few members.\n",
    "\n",
    "**Comparison and Interpretation** \n",
    "\n",
    "Many RFM-High customers (green, left plot) are spread out far from the origin, reflecting their diverse behaviors. However, in the right plot, these same customers are largely labeled as PCA-Mid or even Low, meaning PCA clustering doesn’t fully recognize them as \"High value.\"\n",
    "\n",
    "The PCA-High segment is small and only captures a narrow part of the variance (upper PC2), while RFM classifies many more customers as High.\n",
    "\n",
    "This confirms that PCA clustering is failing to reflect the richness and spread of behaviors seen in RFM’s High segment.\n",
    "\n",
    "PCA’s compact Low cluster shows it’s focusing heavily on principal component compression, and possibly losing important segmentation nuances.\n",
    "\n",
    "\n",
    "</div>"
   ]
  },
  {
   "cell_type": "markdown",
   "id": "aec3813b-99aa-4d27-94ed-de98aa225ef3",
   "metadata": {},
   "source": [
    "<div style=\"background-color:#f1f8e9; border-left: 6px solid #689f38; padding: 15px 20px; margin: 15px 0; border-radius: 6px;\">\n",
    "<h2 style=\"color:#33691e; margin-top:0;\"> Strengths and Weaknesses of Each Technique </h2>\n",
    "    <p style=\"font-size: 15px; line-height: 1.5; color:#333;\">\n",
    "\n",
    "<h3 style=\"text-align:left; color:#00695c;\">RFM Analysis</h3>\n",
    "\n",
    "**Strengths:**\n",
    "\n",
    "* Business Interpretability: RFM (Recency, Frequency, Monetary) is intuitive and directly tied to customer value. Each component tells a meaningful story about customer behavior.\n",
    "* Actionable Segments: RFM produces clearly defined Low, Mid, and High segments that marketers and managers can use to tailor promotions, retention strategies, and resource allocation.\n",
    "* Balanced Distribution: The segmentation yields a fairly even spread across customer groups, ensuring all customer types are represented.\n",
    "\n",
    "**Weaknesses:**\n",
    "\n",
    "* Manual Thresholding: Often requires setting thresholds or binning manually, which can be subjective.\n",
    "* Limited Dimensionality: Only considers three features that may miss other relevant behavioral patterns if more data is available.\n",
    "* No Automatic Dimensional Reduction: May not scale well with very large or complex datasets unless combined with other techniques.\n",
    "\n",
    "<h3 style=\"text-align:left; color:#00695c;\">PCA-Based Clustering</h3>\n",
    "\n",
    "**Strengths:**\n",
    "\n",
    "* Dimensionality Reduction: PCA reduces complex, high-dimensional datasets into a few principal components, which can help uncover hidden patterns.\n",
    "* Data Compression: Enables visualization of complex data in 2D plots, making patterns easier to spot visually.\n",
    "* Objective Transformation: PCA uses statistical variance rather than manual rules.\n",
    "\n",
    "**Weaknesses:**\n",
    "\n",
    "* Loss of Interpretability: Even though PCA uses behavioral variables, it transforms them into abstract components (e.g., PC1, PC2), making the resulting segments difficult to interpret and explain in business terms.\n",
    "* Ambiguous Segment Meaning: PCA clusters are formed based on statistical variance, not explicit business rules. As seen in the results, many high-value customers were misclassified as low, suggesting that meaningful distinctions were not preserved.\n",
    "* Risk of Overgeneralization: The method may produce dominant segments (e.g., most customers in “Low”) that don’t reflect actual behavioral diversity.\n",
    "\n",
    "</div>"
   ]
  },
  {
   "cell_type": "markdown",
   "id": "e26edc8d-c310-44bc-a19c-f52ae55abc76",
   "metadata": {},
   "source": [
    "<div style=\"background-color:#f1f8e9; border-left: 6px solid #689f38; padding: 15px 20px; margin: 15px 0; border-radius: 6px;\">\n",
    "<h2 style=\"color:#33691e; margin-top:0;\"> Project Limitations </h2>\n",
    "    <p style=\"font-size: 15px; line-height: 1.5; color:#333;\">\n",
    "\n",
    "**Fixed Number of Clusters**\\\n",
    "To enable a one-to-one comparison with RFM’s three segments, we forced PCA + clustering into exactly three clusters rather than exploring the “natural” or optimal number of clusters (e.g., via the elbow method or silhouette scores). This may have masked better subgroup structure.\n",
    "\n",
    "**Limited Feature Set**\\\n",
    "Both RFM and PCA ran on just recency/frequency and spending variables. Incorporating additional features (e.g., product categories, channel preferences, demographics) might change the clustering landscape.\n",
    "\n",
    "\n",
    "</div>\n",
    "\n",
    "\n",
    "\n"
   ]
  },
  {
   "cell_type": "markdown",
   "id": "f2d2fee6-7767-4787-8793-54e5a4ec90de",
   "metadata": {},
   "source": [
    "<div style=\"background-color:#f1f8e9; border-left: 6px solid #689f38; padding: 15px 20px; margin: 15px 0; border-radius: 6px;\">\n",
    "<h2 style=\"color:#33691e; margin-top:0;\"> Recommendation for Business Use</h2>\n",
    "    <p style=\"font-size: 15px; line-height: 1.5; color:#333;\">\n",
    "\n",
    "RFM analysis remains the preferred method for most customer-value use cases because:\n",
    "\n",
    "* **Clear Business Meaning**\n",
    "Each RFM segment directly maps to how recently, how often, and how much a customer buys are the metrics that marketing, sales, and customer-success teams already understand and act on. Businesses can say “Target RFM-High customers with VIP rewards” or “Re-engage RFM-Low customers with reactivation offers.”\n",
    "\n",
    "* **Actionable Decision-Making**\n",
    "Segment thresholds in RFM are explicit, so businesses know exactly which customers fall into each bucket. This makes it simple to A/B test campaigns, allocate budgets, and measure lift by segment.\n",
    "\n",
    "* **Robustness and Flexibility**\n",
    "Businesses can easily adjust RFM cut-points or expand to RFMC (adding “Churn risk” or “Customer tenure”) without re-engineering the entire process. It scales to new markets or products with minimal retraining.\n",
    "\n",
    "* **Alignment with Business Metrics**\n",
    "KPIs like “average order value,” “repeat purchase rate,” and “customer lifetime value” tie directly back to RFM scores. This helps stakeholders track performance in language they already use.\n",
    "\n",
    "**When to Use PCA + Clustering**\n",
    "PCA can still play a valuable supporting role:\n",
    "\n",
    "* **Exploratory Analysis:** Uncover hidden patterns in high-dimensional data or visualize customer behaviors in two dimensions.\n",
    "\n",
    "* **Feature Compression:** Preprocess large feature sets before feeding them into more advanced clustering or classification models.\n",
    "\n",
    "* **Advanced Segmentation:** As a precursor to clustering on product-level, behavioral, or psychographic features beyond pure RFM.\n",
    "\n",
    "For straightforward, interpretable, and actionable customer segmentation especially when business teams need clarity on “who to target and how” RFM analysis is the most appropriate. PCA-based clustering is best reserved for deeper exploratory work or when you need to reduce dozens of features into a few summary axes before applying more tailored clustering techniques.\n",
    "\n",
    "</div>"
   ]
  }
 ],
 "metadata": {
  "kernelspec": {
   "display_name": "Python [conda env:base] *",
   "language": "python",
   "name": "conda-base-py"
  },
  "language_info": {
   "codemirror_mode": {
    "name": "ipython",
    "version": 3
   },
   "file_extension": ".py",
   "mimetype": "text/x-python",
   "name": "python",
   "nbconvert_exporter": "python",
   "pygments_lexer": "ipython3",
   "version": "3.12.7"
  }
 },
 "nbformat": 4,
 "nbformat_minor": 5
}
