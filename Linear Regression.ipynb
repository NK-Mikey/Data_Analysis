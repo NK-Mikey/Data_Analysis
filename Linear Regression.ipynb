{
 "cells": [
  {
   "cell_type": "markdown",
   "id": "0e9441ce-2799-40f3-af4e-83582689d02c",
   "metadata": {},
   "source": [
    "<div style=\"background-color:#e0f7fa; border-left: 8px solid #00796b; padding: 20px; margin: 20px 0; border-radius: 8px;\">\n",
    "    <h1 style=\"text-align:center; color:#004d40; font-size: 28px; margin-bottom: 10px;\">Workshop 4: Simple Univariate Linear Regression</h1>\n",
    "    <h3 style=\"text-align:center; color:#00695c;\">July 20, 2025</h3>\n",
    "    <hr style=\"border-top: 1px solid #004d40;\">\n",
    "    <p style=\"font-size: 16px; line-height: 1.5; color:#333;\">\n",
    "    In this assignment, we will use a <b>Simple Univariate Linear Regression</b> to fit a line to the given data points. Linear regression models the relationship between one variable <b>X</b> and an output variable <b>Y</b> by finding the best-fitting straight line. We will apply Gradient Descent to iteratively update the line parameters θ0 and θ1 starting from zero, minimizing the sum of squared errors (SSE). The process stops once SSE is less than <b>0.5</b>, ensuring the line closely fits the samples.\n",
    "    </p>\n",
    "    <p style=\"font-size: 16px; color:#555;\"><b>Contributors:</b> Sanuja Vihanga Senadeera, Naveen Karan Krishna, Thi Anh Tram Le, Mayra Geraldine Reinoso Varon, Justin Kyle Pedro</p>\n",
    "</div>"
   ]
  },
  {
   "cell_type": "markdown",
   "id": "90965932-5fec-47bc-a909-9716c407767e",
   "metadata": {},
   "source": [
    "<div style=\"background-color: #e0f7fa; padding: 15px; border-radius: 8px;\">\n",
    "\n",
    "Markdown with this color is the explanation of code"
   ]
  },
  {
   "cell_type": "markdown",
   "id": "deeef5c2-7dd4-4f7a-93fa-a0dc4205e05f",
   "metadata": {},
   "source": [
    "<div style=\"background-color: #f1f8e9; padding: 15px; border-radius: 8px;\">\n",
    "\n",
    "Markdown with this color is the explanation/interpretation of result"
   ]
  },
  {
   "cell_type": "markdown",
   "id": "8307e82e-1729-4f73-9cfc-3bf4e5700147",
   "metadata": {},
   "source": [
    "<div style=\"background-color:#f1f8e9; border-left: 6px solid #689f38; padding: 15px 20px; margin: 15px 0; border-radius: 6px;\">\n",
    "    <h2 style=\"color:#33691e; margin-top:0;\">1. Import Libraries</h2>\n",
    "</div>"
   ]
  },
  {
   "cell_type": "code",
   "execution_count": 42,
   "id": "85b24b0c-d5d7-40ad-a397-59028ea75958",
   "metadata": {},
   "outputs": [],
   "source": [
    "import pandas as pd\n",
    "import numpy as np\n",
    "import matplotlib.pyplot as plt\n",
    "from sklearn.metrics import mean_squared_error\n",
    "from sklearn.linear_model import LinearRegression, SGDRegressor"
   ]
  },
  {
   "cell_type": "markdown",
   "id": "3c6d109e-ddc1-4686-aa70-878e39c7d13d",
   "metadata": {},
   "source": [
    "<div style=\"background-color: #e0f7fa; padding: 15px; border-radius: 8px;\">\n",
    "\n",
    "This code imports libraries needed for data manipulation, numerical operations, visualization, and machine learning:\n",
    "\n",
    "- `pandas` (`pd`): For handling and manipulating tabular data in DataFrames.\n",
    "\n",
    "- `numpy` (`np`): Provides support for numerical operations, arrays, and mathematical functions.\n",
    "\n",
    "- `matplotlib.pyplot` (`plt`): For creating static and interactive plots to visualize data and results.\n",
    "\n",
    "- `mean_squared_error`: A metric from scikit-learn to measure the average squared difference between predicted and actual values. And the sum of squared errors will be calculated from MSE.\n",
    "\n",
    "- `LinearRegression`: A scikit-learn model that fits a linear regression using a closed-form solution (normal equation).\n",
    "\n",
    "- `SGDRegressor`: A scikit-learn model that fits linear regression using stochastic gradient descent, an iterative optimization algorithm suitable for large datasets.\n",
    "\n",
    "</div>"
   ]
  },
  {
   "cell_type": "markdown",
   "id": "d8004e81-1d0f-49cf-b722-93f1876a567c",
   "metadata": {},
   "source": [
    "<div style=\"background-color:#f1f8e9; border-left: 6px solid #689f38; padding: 15px 20px; margin: 15px 0; border-radius: 6px;\">\n",
    "    <h2 style=\"color:#33691e; margin-top:0;\">2. Data Creation</h2>\n",
    "</div>"
   ]
  },
  {
   "cell_type": "code",
   "execution_count": 46,
   "id": "c98c26c7-5da9-44ee-ae8f-43af5cb32d32",
   "metadata": {},
   "outputs": [
    {
     "data": {
      "text/html": [
       "<div>\n",
       "<style scoped>\n",
       "    .dataframe tbody tr th:only-of-type {\n",
       "        vertical-align: middle;\n",
       "    }\n",
       "\n",
       "    .dataframe tbody tr th {\n",
       "        vertical-align: top;\n",
       "    }\n",
       "\n",
       "    .dataframe thead th {\n",
       "        text-align: right;\n",
       "    }\n",
       "</style>\n",
       "<table border=\"1\" class=\"dataframe\">\n",
       "  <thead>\n",
       "    <tr style=\"text-align: right;\">\n",
       "      <th></th>\n",
       "      <th>X</th>\n",
       "      <th>Y</th>\n",
       "    </tr>\n",
       "  </thead>\n",
       "  <tbody>\n",
       "    <tr>\n",
       "      <th>0</th>\n",
       "      <td>1</td>\n",
       "      <td>3</td>\n",
       "    </tr>\n",
       "    <tr>\n",
       "      <th>1</th>\n",
       "      <td>2</td>\n",
       "      <td>5</td>\n",
       "    </tr>\n",
       "    <tr>\n",
       "      <th>2</th>\n",
       "      <td>3</td>\n",
       "      <td>7</td>\n",
       "    </tr>\n",
       "  </tbody>\n",
       "</table>\n",
       "</div>"
      ],
      "text/plain": [
       "   X  Y\n",
       "0  1  3\n",
       "1  2  5\n",
       "2  3  7"
      ]
     },
     "execution_count": 46,
     "metadata": {},
     "output_type": "execute_result"
    }
   ],
   "source": [
    "# Creating the dataset using a dictionary\n",
    "data = {'X': [1, 2, 3], 'Y': [3, 5, 7]}\n",
    "\n",
    "# converting the dictionary into a pandas dataframe\n",
    "df = pd.DataFrame(data)\n",
    "\n",
    "# Previewing the dataframe\n",
    "df.head()"
   ]
  },
  {
   "cell_type": "markdown",
   "id": "7a9b991a-4b3d-4763-aff6-4853aaebdef1",
   "metadata": {},
   "source": [
    "<div style=\"background-color: #e0f7fa; padding: 15px; border-radius: 8px;\">\n",
    "\n",
    "This code creates and previews a simple dataset:\n",
    "\n",
    "- A dictionary `data` is created with two keys: `'X'` and `'Y'`. Each key holds a list of numbers representing feature values (`X`) and corresponding target values (`Y`).\n",
    "\n",
    "- `pd.DataFrame(data)` converts the dictionary into a pandas DataFrame, a tabular data structure that is easy to manipulate and analyze.\n",
    "\n",
    "- `df.head()` displays the first few rows (by default, 5) of the DataFrame, allowing us to quickly inspect the dataset."
   ]
  },
  {
   "cell_type": "markdown",
   "id": "9dd14dd9-3512-4948-adb6-1421e4fe7a2c",
   "metadata": {},
   "source": [
    "<div style=\"background-color:#f1f8e9; border-left: 6px solid #689f38; padding: 15px 20px; margin: 15px 0; border-radius: 6px;\">\n",
    "    <h2 style=\"color:#33691e; margin-top:0;\">3. Data Exploration</h2>\n",
    "</div>"
   ]
  },
  {
   "cell_type": "code",
   "execution_count": 50,
   "id": "45f94964-8519-48c3-adbd-dd910c2d62f8",
   "metadata": {},
   "outputs": [
    {
     "name": "stdout",
     "output_type": "stream",
     "text": [
      "<class 'pandas.core.frame.DataFrame'>\n",
      "RangeIndex: 3 entries, 0 to 2\n",
      "Data columns (total 2 columns):\n",
      " #   Column  Non-Null Count  Dtype\n",
      "---  ------  --------------  -----\n",
      " 0   X       3 non-null      int64\n",
      " 1   Y       3 non-null      int64\n",
      "dtypes: int64(2)\n",
      "memory usage: 180.0 bytes\n"
     ]
    }
   ],
   "source": [
    "# To check the datatypes of the variables\n",
    "df.info()"
   ]
  },
  {
   "cell_type": "markdown",
   "id": "cdfa3527-7d5a-4888-aa4e-202d0ccadea3",
   "metadata": {},
   "source": [
    "<div style=\"background-color: #e0f7fa; padding: 15px; border-radius: 8px;\">\n",
    "\n",
    "The `df.info()` command provides a quick summary of the DataFrame:\n",
    "\n",
    "- Displays the total number of rows and columns.\n",
    "\n",
    "- Lists all column names and their data types (e.g., integer, float, object).\n",
    "\n",
    "- Shows how many non-null (non-missing) values each column contains.\n",
    "\n",
    "- Reports the memory usage of the DataFrame."
   ]
  },
  {
   "cell_type": "code",
   "execution_count": 53,
   "id": "a1a2f5cb-8f0c-429c-9ce8-9e9d5cd43c44",
   "metadata": {},
   "outputs": [
    {
     "data": {
      "text/html": [
       "<div>\n",
       "<style scoped>\n",
       "    .dataframe tbody tr th:only-of-type {\n",
       "        vertical-align: middle;\n",
       "    }\n",
       "\n",
       "    .dataframe tbody tr th {\n",
       "        vertical-align: top;\n",
       "    }\n",
       "\n",
       "    .dataframe thead th {\n",
       "        text-align: right;\n",
       "    }\n",
       "</style>\n",
       "<table border=\"1\" class=\"dataframe\">\n",
       "  <thead>\n",
       "    <tr style=\"text-align: right;\">\n",
       "      <th></th>\n",
       "      <th>count</th>\n",
       "      <th>mean</th>\n",
       "      <th>std</th>\n",
       "      <th>min</th>\n",
       "      <th>25%</th>\n",
       "      <th>50%</th>\n",
       "      <th>75%</th>\n",
       "      <th>max</th>\n",
       "    </tr>\n",
       "  </thead>\n",
       "  <tbody>\n",
       "    <tr>\n",
       "      <th>X</th>\n",
       "      <td>3.0</td>\n",
       "      <td>2.0</td>\n",
       "      <td>1.0</td>\n",
       "      <td>1.0</td>\n",
       "      <td>1.5</td>\n",
       "      <td>2.0</td>\n",
       "      <td>2.5</td>\n",
       "      <td>3.0</td>\n",
       "    </tr>\n",
       "    <tr>\n",
       "      <th>Y</th>\n",
       "      <td>3.0</td>\n",
       "      <td>5.0</td>\n",
       "      <td>2.0</td>\n",
       "      <td>3.0</td>\n",
       "      <td>4.0</td>\n",
       "      <td>5.0</td>\n",
       "      <td>6.0</td>\n",
       "      <td>7.0</td>\n",
       "    </tr>\n",
       "  </tbody>\n",
       "</table>\n",
       "</div>"
      ],
      "text/plain": [
       "   count  mean  std  min  25%  50%  75%  max\n",
       "X    3.0   2.0  1.0  1.0  1.5  2.0  2.5  3.0\n",
       "Y    3.0   5.0  2.0  3.0  4.0  5.0  6.0  7.0"
      ]
     },
     "execution_count": 53,
     "metadata": {},
     "output_type": "execute_result"
    }
   ],
   "source": [
    "# To check the basic statistics of the variables\n",
    "df.describe().T"
   ]
  },
  {
   "cell_type": "markdown",
   "id": "9456779f-6866-43f2-b8fb-7d0454abcca8",
   "metadata": {},
   "source": [
    "<div style=\"background-color: #e0f7fa; padding: 15px; border-radius: 8px;\">\n",
    "\n",
    "The `df.describe().T` command displays basic statistical summaries for each numeric column in the DataFrame, and transposes the output for better readability:\n",
    "\n",
    "- count: Number of non-null entries.\n",
    "\n",
    "- mean: Average value.\n",
    "\n",
    "- std: Standard deviation, showing how spread out the values are.\n",
    "\n",
    "- min: Minimum value.\n",
    "\n",
    "- 25% / 50% / 75%: Quartiles, showing the distribution of the data.\n",
    "\n",
    "- max: Maximum value.\n",
    "\n",
    "This helps us quickly understand the central tendency and spread of your dataset."
   ]
  },
  {
   "cell_type": "markdown",
   "id": "461193c7-69a8-4bf1-b5d8-15a2b502bc96",
   "metadata": {},
   "source": [
    "<div style=\"background-color:#f1f8e9; border-left: 6px solid #689f38; padding: 15px 20px; margin: 15px 0; border-radius: 6px;\">\n",
    "    <h2 style=\"color:#33691e; margin-top:0;\">4. Feature Selection</h2>\n",
    "</div>"
   ]
  },
  {
   "cell_type": "code",
   "execution_count": 57,
   "id": "7372d47e-ef3f-48e4-8c3e-f4f3a8bf87ba",
   "metadata": {},
   "outputs": [],
   "source": [
    "# Prepare Feature and Target\n",
    "X = df[['X']]\n",
    "Y = df['Y']"
   ]
  },
  {
   "cell_type": "markdown",
   "id": "3a28dd18-2d3c-48cb-9eae-c76e30feb2cc",
   "metadata": {},
   "source": [
    "<div style=\"background-color: #e0f7fa; padding: 15px; border-radius: 8px;\">\n",
    "\n",
    "This code separates the dataset into **features (X)** and **target (Y)** for model training:\n",
    "\n",
    "- `X = df[['X']]`: Extracts the feature column as a 2D DataFrame. Machine learning models often expect input features in 2D format, even if there's only one feature.\n",
    "\n",
    "- `Y = df['Y']`: Extracts the target variable as a 1D Series, which is the expected format for most models when predicting a single output.\n",
    "\n",
    "This step is essential for preparing the data before fitting a regression."
   ]
  },
  {
   "cell_type": "markdown",
   "id": "373359c9-134b-4315-a1d1-e878183149fd",
   "metadata": {},
   "source": [
    "<div style=\"background-color:#f1f8e9; border-left: 6px solid #689f38; padding: 15px 20px; margin: 15px 0; border-radius: 6px;\">\n",
    "    <h2 style=\"color:#33691e; margin-top:0;\">5. Linear Regression</h2>\n",
    "</div>"
   ]
  },
  {
   "cell_type": "markdown",
   "id": "39cee7ff-ae97-4bee-b986-1b1d6ecd7b13",
   "metadata": {},
   "source": [
    "## 5.1 Linear Regression Model (Closed-form)"
   ]
  },
  {
   "cell_type": "code",
   "execution_count": 62,
   "id": "1a36b309-690e-4c3a-a53d-e236e515cb47",
   "metadata": {},
   "outputs": [],
   "source": [
    "# Create Linear Regression (closed-form)\n",
    "lr_model = LinearRegression()\n",
    "\n",
    "# Fitting the model to the feature and target\n",
    "lr_fit = lr_model.fit(X,Y)\n",
    "\n",
    "# Predict the model\n",
    "Y_pred_lr = lr_fit.predict(X)\n",
    "\n",
    "# Calculate the Sum of Squared Errors\n",
    "mse_lr = mean_squared_error(Y, Y_pred_lr)\n",
    "sse_lr = mse_lr * len(Y)"
   ]
  },
  {
   "cell_type": "markdown",
   "id": "3149fcae-7555-40ba-9791-aebe6f2ecc53",
   "metadata": {},
   "source": [
    "<div style=\"background-color: #e0f7fa; padding: 15px; border-radius: 8px;\">\n",
    "\n",
    "This code implements **Linear Regression using the closed-form solution** (also known as the **Normal Equation** method). \n",
    "\n",
    "- `LinearRegression()`: Initializes a Linear Regression model from scikit-learn.\n",
    "\n",
    "- `fit(X, Y)`: Trains the model by finding the best-fitting line that minimizes prediction errors using the least squares method.\n",
    "\n",
    "- `predict(X)`: Uses the trained model to make predictions on the input features.\n",
    "\n",
    "- `mean_squared_error(Y, Y_pred_lr)`: Calculates the average squared difference between actual and predicted values.\n",
    "\n",
    "- `sse_lr = mse_lr * len(Y)`: Converts Mean Squared Error (MSE) to Sum of Squared Errors (SSE) by multiplying it by the number of samples, providing a total error measure.\n",
    "\n",
    "This approach gives the exact solution without iterations, suitable for small datasets or when performance is not a concern."
   ]
  },
  {
   "cell_type": "code",
   "execution_count": 65,
   "id": "9d4c5295-cfea-44b6-bef5-07fbc97d53bb",
   "metadata": {},
   "outputs": [
    {
     "name": "stdout",
     "output_type": "stream",
     "text": [
      "LinearRegression (Closed-form):\n",
      "Intercept: 1.0000\n",
      "Coefficient: 2.0000\n",
      "SSE: 0.0000\n",
      "Final Model Equation: y = 1.0000 + 2.0000 * x\n",
      "\n"
     ]
    }
   ],
   "source": [
    "# Print the results\n",
    "print(\"LinearRegression (Closed-form):\")\n",
    "print(f\"Intercept: {lr_model.intercept_:.4f}\")\n",
    "print(f\"Coefficient: {lr_model.coef_[0]:.4f}\")\n",
    "print(f\"SSE: {sse_lr:.4f}\")\n",
    "print(f\"Final Model Equation: y = {lr_model.intercept_:.4f} + {lr_model.coef_[0]:.4f} * x\\n\")"
   ]
  },
  {
   "cell_type": "markdown",
   "id": "9971e030-fbb7-4494-8b49-862328fa901c",
   "metadata": {
    "jp-MarkdownHeadingCollapsed": true
   },
   "source": [
    "<div style=\"background-color: #f1f8e9; padding: 15px; border-radius: 8px;\">\n",
    "    <h2 style=\"color:#33691e; margin-top:0;\"> Linear Regression Closed-form Model Interpretation</h2>\n",
    "\n",
    "\n",
    "* **Intercept (1.0000):**\n",
    "  This is the predicted value of **y** when the feature **x** is zero. In other words, when x = 0, the model predicts y = 1. This serves as the baseline value for the dependent variable.\n",
    "\n",
    "* **Coefficient (2.0000):**\n",
    "  This indicates the slope of the regression line. For every one unit increase in **x**, the predicted value of **y** increases by 2 units. It represents the strength and direction of the relationship between **x** and **y**.\n",
    "\n",
    "* **Sum of Squared Errors (SSE = 0.0000):**\n",
    "  SSE measures the total squared difference between the actual values and the predicted values. Here, SSE is zero, which means the model perfectly fits the data points with no error. This suggests the data is perfectly linear and fits the equation exactly.\n",
    "\n",
    "* **Final Model Equation:**\n",
    "\n",
    "  \n",
    "  <center>y = 1.0000 + 2.0000 * x</center>\n",
    "  \n",
    "\n",
    "  This equation can be used to predict **y** given any value of **x**.\n",
    "\n",
    "  \n",
    "\n",
    "### Summary:\n",
    "\n",
    "The model shows a perfect linear relationship between **x** and **y** with no prediction error. Every increase in the independent variable x results in a consistent increase of 2 in the dependent variable y, starting from a baseline of 1 when x = 0.\n",
    "\n",
    "\n",
    "</div>"
   ]
  },
  {
   "cell_type": "markdown",
   "id": "f72f6442-ae10-420d-b3cc-1f6cca8ae3a5",
   "metadata": {},
   "source": [
    "## 5.2 SGD Regressor Model (Stochastic Gradient Descent)"
   ]
  },
  {
   "cell_type": "code",
   "execution_count": 69,
   "id": "a69a2f79-d67e-4307-9f0a-b83b89ecbe51",
   "metadata": {},
   "outputs": [],
   "source": [
    "# Create SGD Regressor Model\n",
    "sgd_model = SGDRegressor(loss = 'squared_error',\n",
    "                         learning_rate = 'constant',\n",
    "                         eta0 = 0.1,\n",
    "                         max_iter = 1000,\n",
    "                         tol = 1e-3,\n",
    "                         random_state = 29)\n",
    "\n",
    "# Fit the model to the feature and target variables\n",
    "sgd_fit = sgd_model.fit(X, Y)\n",
    "\n",
    "# Predict the model\n",
    "Y_pred_sgd = sgd_fit.predict(X)\n",
    "\n",
    "# Calculate the Sum of Squared Errors\n",
    "mse_sgd = mean_squared_error(Y, Y_pred_sgd)\n",
    "sse_sgd = mse_sgd * len(Y)"
   ]
  },
  {
   "cell_type": "markdown",
   "id": "23b0b804-f790-411c-b739-6ea7cce4384e",
   "metadata": {},
   "source": [
    "<div style=\"background-color: #e0f7fa; padding: 15px; border-radius: 8px;\">\n",
    "\n",
    "This code performs **Linear Regression using Stochastic Gradient Descent (SGD)**, an iterative optimization technique commonly used for large-scale data:\n",
    "\n",
    "- `SGDRegressor()`: Initializes the model with specific parameters:\n",
    "\n",
    "    - `loss='squared_error'`: Uses Mean Squared Error as the loss function.\n",
    "\n",
    "    - `learning_rate='constant'` and `eta0=0.1`: Sets a fixed learning rate of 0.1 for each update.\n",
    "\n",
    "    - `max_iter=1000`: Allows up to 1000 iterations for training.\n",
    "\n",
    "    - `tol=1e-3`: Training stops if the model converges before hitting 1000 iterations.\n",
    "\n",
    "    - `random_state=29`: Ensures reproducibility.\n",
    "\n",
    "- `sgd_fit = sgd_model.fit(X, Y)`: Trains the model using the feature (`X`) and target (`Y`) data.\n",
    "\n",
    "- `Y_pred_sgd = sgd_fit.predict(X)`: Generates predictions using the trained SGD model.\n",
    "\n",
    "- `mean_squared_error(Y, Y_pred_sgd)`: Computes the Mean Squared Error (MSE).\n",
    "\n",
    "- `sse_sgd = mse_sgd * len(Y)`: Converts MSE to **Sum of Squared Errors (SSE)** to match the evaluation metric used in the assignment.\n",
    "\n",
    "This approach simulates how gradient descent updates the model step-by-step until it converges to a good approximation of the best-fit line.\n",
    "\n",
    "</div>"
   ]
  },
  {
   "cell_type": "code",
   "execution_count": 72,
   "id": "b001165b-3160-44b6-9d48-3dc4a30db584",
   "metadata": {},
   "outputs": [
    {
     "name": "stdout",
     "output_type": "stream",
     "text": [
      "\n",
      "SGDRegressor (Gradient Descent):\n",
      "Intercept: 0.9104\n",
      "Coefficient: 2.0370\n",
      "SSE: 0.0035\n",
      "Final Model Equation: y = 0.9104 + 2.0370 * x\n",
      "\n"
     ]
    }
   ],
   "source": [
    "# Print the results\n",
    "print(\"\\nSGDRegressor (Gradient Descent):\")\n",
    "print(f\"Intercept: {sgd_model.intercept_[0]:.4f}\")\n",
    "print(f\"Coefficient: {sgd_model.coef_[0]:.4f}\")\n",
    "print(f\"SSE: {sse_sgd:.4f}\")\n",
    "print(f\"Final Model Equation: y = {sgd_model.intercept_[0]:.4f} + {sgd_model.coef_[0]:.4f} * x\\n\")"
   ]
  },
  {
   "cell_type": "markdown",
   "id": "7bac1435-c0eb-46c5-9363-05b0c0b362e0",
   "metadata": {},
   "source": [
    "<div style=\"background-color: #f1f8e9; padding: 15px; border-radius: 8px;\">\n",
    "    <h2 style=\"color:#33691e; margin-top:0;\"> SGD Regression Model Interpretation</h2>\n",
    "\n",
    "* **Intercept (0.9104):**\n",
    "  When the feature x = 0, the model predicts the target y to be approximately 0.9104. This is the baseline prediction before considering the effect of x.\n",
    "\n",
    "* **Coefficient (2.0370):**\n",
    "  This coefficient means for every one unit increase in x, the predicted y increases by about 2.0370 units. It shows a strong positive linear relationship between x and y, similar to the closed-form solution but with a slight difference.\n",
    "\n",
    "* **Sum of Squared Errors (SSE = 0.0035):**\n",
    "  This value quantifies the total squared error between the actual y values and the predicted values from the model. The SSE is very small but not zero, indicating the model fits the data very well but not perfectly. Small residual error is typical in iterative optimization methods like SGD due to approximation and stopping criteria.\n",
    "\n",
    "* **Final Model Equation:**\n",
    "\n",
    "  \n",
    "  <center>y = 0.9104 + 2.0370 * x</center>\n",
    "  \n",
    "\n",
    "  This equation predicts y based on x using the SGD-optimized parameters.\n",
    "\n",
    "### Summary:\n",
    "\n",
    "The SGDRegressor model has found a nearly perfect linear fit, very close to the closed-form Linear Regression solution. The minor differences in intercept and coefficient values, and the small but non-zero SSE, reflect the approximate nature of gradient descent optimization, stopping when changes become sufficiently small (within tolerance).\n",
    "\n",
    "\n",
    "</div>"
   ]
  },
  {
   "cell_type": "markdown",
   "id": "12543a74-ef8e-4dfa-ba05-ea84215f172f",
   "metadata": {},
   "source": [
    "## 5.3 Linear Regression using Manual Gradient Descent"
   ]
  },
  {
   "cell_type": "code",
   "execution_count": 76,
   "id": "3a670170-4994-4a15-a8ff-6d518d495b32",
   "metadata": {},
   "outputs": [],
   "source": [
    "# Initialize the parameters\n",
    "X_vals = df['X'].values\n",
    "Y_vals = df['Y'].values\n",
    "m = len(X_vals)\n",
    "theta_0 = 0.0\n",
    "theta_1 = 0.0\n",
    "alpha = 0.1\n",
    "sse = float('inf')\n",
    "threshold = 0.5\n",
    "iteration = 1"
   ]
  },
  {
   "cell_type": "markdown",
   "id": "1e883ab0-e279-4433-b8ec-4a8e94414fda",
   "metadata": {},
   "source": [
    "<div style=\"background-color: #e0f7fa; padding: 15px; border-radius: 8px;\">\n",
    "\n",
    "This block initializes the setup for implementing **manual gradient descent** for linear regression:\n",
    "\n",
    "- `X_vals = df['X'].values` and `Y_vals = df['Y'].values`\n",
    "Extracts the feature and target columns from the dataframe as NumPy arrays for numerical operations.\n",
    "\n",
    "- `m = len(X_vals)`\n",
    "Represents the total number of data points.\n",
    "\n",
    "- `theta_0 = 0.0` and `theta_1 = 0.0`\n",
    "Initial values of the intercept and slope (parameters to be learned).\n",
    "\n",
    "- `alpha = 0.1`\n",
    "The learning rate, controls how large each update step is during training. A moderate value helps balance speed and stability.\n",
    "\n",
    "- `sse = float('inf')`\n",
    "SSE is initialized to infinity to ensure the loop starts. It will be updated after each iteration.\n",
    "\n",
    "- `threshold = 0.5`\n",
    "The stopping condition, the loop will stop once SSE is less than this value, indicating good model accuracy.\n",
    "\n",
    "- `iteration = 1`\n",
    "Counter to track the number of training iterations."
   ]
  },
  {
   "cell_type": "code",
   "execution_count": 79,
   "id": "dccba2b7-6978-4cd9-8f9b-70e4fd6a442c",
   "metadata": {},
   "outputs": [],
   "source": [
    "# To store history for plotting\n",
    "sse_history = []"
   ]
  },
  {
   "cell_type": "markdown",
   "id": "a3fafb3b-0b35-4e52-80d1-a2362fb927c0",
   "metadata": {},
   "source": [
    "<div style=\"background-color: #e0f7fa; padding: 15px; border-radius: 8px;\">\n",
    "\n",
    "This line initializes an empty list `sse_history` to record the Sum of Squared Errors at each iteration, allowing us to track and visualize the model’s error reduction over time during training.\n",
    "\n",
    "</div>"
   ]
  },
  {
   "cell_type": "code",
   "execution_count": 82,
   "id": "bff89f65-a596-4235-aa8d-c33397814f9b",
   "metadata": {},
   "outputs": [],
   "source": [
    "# Iteration loop\n",
    "while True:\n",
    "    # Predictions\n",
    "    Y_pred = theta_0 + theta_1 * X_vals\n",
    "    \n",
    "    # Errors\n",
    "    errors = Y_pred - Y_vals\n",
    "    sse = np.sum(errors ** 2)\n",
    "    sse_history.append(sse)\n",
    "\n",
    "    # Check for convergence\n",
    "    if sse < threshold:\n",
    "        break\n",
    "\n",
    "    # Gradients\n",
    "    s0 = np.sum(errors)\n",
    "    s1 = np.sum(errors * X_vals)\n",
    "\n",
    "    # Parameter Updates\n",
    "    theta_0 -= alpha * (s0 / m)\n",
    "    theta_1 -= alpha * (s1 / m)\n",
    "\n",
    "    iteration += 1\n",
    "    \n",
    "Y_pred_manual_final = theta_0 + theta_1 * X_vals"
   ]
  },
  {
   "cell_type": "markdown",
   "id": "59dfe4c7-400c-4cfb-bcb1-c648d4c670d3",
   "metadata": {},
   "source": [
    "<div style=\"background-color: #e0f7fa; padding: 15px; border-radius: 8px;\">\n",
    "\n",
    "This code performs the core of **manual gradient descent** for linear regression by iteratively updating the parameters until the error is sufficiently low:\n",
    "\n",
    "- **Predictions**: Calculate predicted values using current parameters.\n",
    "\n",
    "- **Errors and SSE**: Compute the difference between predictions and actual values, then calculate and record the Sum of Squared Errors (SSE).\n",
    "\n",
    "- **Convergence Check**: If SSE is below the defined threshold, the loop stops, indicating the model has learned well enough.\n",
    "\n",
    "- **Gradients Calculation**: Calculate gradients (slopes of the error surface) for both parameters, representing the direction and magnitude to adjust.\n",
    "\n",
    "- **Parameter Updates**: Adjust the intercept (`theta_0`) and slope (`theta_1`) by moving against the gradient, scaled by the learning rate and normalized by the number of samples.\n",
    "\n",
    "- **Iteration Count**: Increment the iteration counter to track how many updates occur.\n",
    "\n",
    "- **Final Prediction**: After convergence, compute the final predicted values with the optimized parameters.\n",
    "\n",
    "This iterative process refines the model step-by-step to minimize prediction error."
   ]
  },
  {
   "cell_type": "code",
   "execution_count": 85,
   "id": "ab8b77a5-6c04-49c2-bb49-45c29b325b60",
   "metadata": {},
   "outputs": [
    {
     "name": "stdout",
     "output_type": "stream",
     "text": [
      "Final Predictions = [2.83046049 4.79225062 6.75404074]\n",
      "Converged in 5 iterations\n",
      "Theta 0 (intercept): 0.8687\n",
      "Theta 1 (slope): 1.9618\n",
      "Final SSE: 0.1324\n",
      "Final Model Equation: y = 0.8687 + 1.9618 * x\n",
      "\n"
     ]
    }
   ],
   "source": [
    "# Output Results\n",
    "print(\"Final Predictions =\", Y_pred_manual_final)\n",
    "print(f\"Converged in {iteration} iterations\")\n",
    "print(f\"Theta 0 (intercept): {theta_0:.4f}\")\n",
    "print(f\"Theta 1 (slope): {theta_1:.4f}\")\n",
    "print(f\"Final SSE: {sse:.4f}\")\n",
    "print(f\"Final Model Equation: y = {theta_0:.4f} + {theta_1:.4f} * x\\n\")"
   ]
  },
  {
   "cell_type": "markdown",
   "id": "c13321a7-2ec8-4d25-b4ce-239286917d81",
   "metadata": {},
   "source": [
    "<div style=\"background-color: #f1f8e9; padding: 15px; border-radius: 8px;\">\n",
    "    <h2 style=\"color:#33691e; margin-top:0;\"> Manual Gradient Descent Model Interpretation</h2>\n",
    "\n",
    "* **Intercept (θ0 = 0.8687)**:\n",
    "  This is the predicted value of y when the feature x = 0. The model estimates y of 0.8687 at zero input, representing the baseline level of the target variable.\n",
    "\n",
    "* **Slope (θ1 = 1.9618)**:\n",
    "  This coefficient means for every one unit increase in x, the predicted value of y increases by approximately 1.9618 units. It shows a strong positive linear relationship between x and y, close to the ideal coefficient of 2.\n",
    "\n",
    "* **Final Sum of Squared Errors (SSE = 0.1324)**:\n",
    "  SSE measures the total squared difference between the actual y values and those predicted by the model. A value of 0.1324 indicates a fairly good fit, though there is some residual error. This is expected since this manual gradient descent used a stopping threshold rather than fully minimizing the SSE.\n",
    "\n",
    "* **Convergence (in 5 iterations)**:\n",
    "  The model converged quickly, within 5 iterations, to a solution where the SSE dropped below the threshold of 0.5. This shows the gradient descent process was efficient with the chosen learning rate (0.1).\n",
    "\n",
    "* **Final Model Equation:**\n",
    "\n",
    "  \n",
    "  <center>y = 0.8687 + 1.9618 * x</center>\n",
    "  \n",
    "\n",
    "  This equation can be used to predict y values given any x.\n",
    "\n",
    "* **Final Predictions:**\n",
    "  For the given X values, the model predicts y values approximately as [2.83, 4.79, 6.75], reflecting the learned linear relationship.\n",
    "\n",
    "\n",
    "### Summary:\n",
    "\n",
    "The manual gradient descent implementation successfully found a linear model closely approximating the ideal relationship y = 1 + 2x, with slightly lower slope and intercept than the closed-form solution. The model fit is reasonably accurate with some residual error (SSE > 0) and converged quickly due to an effective learning rate and stopping threshold.\n",
    "\n",
    "\n",
    "</div>"
   ]
  },
  {
   "cell_type": "markdown",
   "id": "b26052a5-3e3f-44ca-b387-9e8c0a7fd1d3",
   "metadata": {},
   "source": [
    "<div style=\"background-color:#f1f8e9; border-left: 6px solid #689f38; padding: 15px 20px; margin: 15px 0; border-radius: 6px;\">\n",
    "    <h2 style=\"color:#33691e; margin-top:0;\">6. Plotting the Model</h2>\n",
    "</div>"
   ]
  },
  {
   "cell_type": "code",
   "execution_count": 89,
   "id": "7f41db09-aa00-4f43-8c23-0d7aa84697ab",
   "metadata": {},
   "outputs": [
    {
     "data": {
      "image/png": "[encoded data removed]",
      "text/plain": [
       "<Figure size 800x600 with 1 Axes>"
      ]
     },
     "metadata": {},
     "output_type": "display_data"
    }
   ],
   "source": [
    "# Plot all models\n",
    "plt.figure(figsize=(8, 6))\n",
    "plt.scatter(X_vals, Y_vals, color='black', label='Actual Data', s=60)\n",
    "\n",
    "plt.plot(X_vals, Y_pred_lr, color='green', linestyle='--', label='LinearRegression (Closed-form)')\n",
    "plt.plot(X_vals, Y_pred_sgd, color='red', linestyle='-.', label='SGDRegressor (Gradient Descent)')\n",
    "plt.plot(X_vals, Y_pred_manual_final, color='blue', linestyle=':', label='Manual Gradient Descent')\n",
    "\n",
    "plt.title('Comparison of Linear Regression Models')\n",
    "plt.xlabel('X')\n",
    "plt.ylabel('Y')\n",
    "plt.legend()\n",
    "plt.grid(True, linestyle = '--', alpha = 0.6)\n",
    "plt.tight_layout()\n",
    "plt.show()"
   ]
  },
  {
   "cell_type": "markdown",
   "id": "d3cba28d-0e6a-497e-8dd6-40cabdb6f53f",
   "metadata": {},
   "source": [
    "<div style=\"background-color: #f1f8e9; padding: 15px; border-radius: 8px;\">\n",
    "    <h2 style=\"color:#33691e; margin-top:0;\"> Interpretation of Comparison of All Models</h2>\n",
    "\n",
    "The chart compares different linear regression methods on the same dataset. The **black dots** represent actual data points. The **green dashed line** (closed-form LinearRegression) and the **red dash-dot line** (SGDRegressor) closely overlap, indicating both accurately model the data. In contrast, the **blue dotted line** (Manual Gradient Descent) deviates from the others, likely due to incomplete convergence. This highlights that while all methods aim to fit the same linear relationship, their performance can vary based on implementation and optimization efficiency.\n",
    "\n",
    "\n",
    "</div>"
   ]
  },
  {
   "cell_type": "code",
   "execution_count": 92,
   "id": "7bc9b7be-8f69-4f7d-aaa1-e517529e8768",
   "metadata": {},
   "outputs": [
    {
     "data": {
      "image/png": "[encoded data removed]",
      "text/plain": [
       "<Figure size 800x500 with 1 Axes>"
      ]
     },
     "metadata": {},
     "output_type": "display_data"
    }
   ],
   "source": [
    "# Plot SSE and Iterations for Manual Gradient Descent Model\n",
    "plt.figure(figsize=(8, 5))\n",
    "plt.plot(range(1, len(sse_history) + 1), sse_history, marker='o', color='blue')\n",
    "plt.title('SSE vs Iterations in Manual Gradient Descent')\n",
    "plt.xlabel('Iteration')\n",
    "plt.ylabel('Sum of Squared Errors (SSE)')\n",
    "plt.grid(True, linestyle = '--', alpha = 0.6)\n",
    "plt.tight_layout()\n",
    "plt.show()"
   ]
  },
  {
   "cell_type": "markdown",
   "id": "49c079db-e830-44d5-b7d8-2e36e6f55fbe",
   "metadata": {},
   "source": [
    "<div style=\"background-color: #f1f8e9; padding: 15px; border-radius: 8px;\">\n",
    "    <h2 style=\"color:#33691e; margin-top:0;\"> Interpretation of SSE vs Iteration in Manual Gradient Descent</h2>\n",
    "\n",
    "The chart illustrates that manual gradient descent effectively reduces the Sum of Squared Errors (SSE) over 5 iterations. A sharp drop in error occurs in the first few steps, followed by gradual convergence toward zero. This indicates that the model is learning and improving its fit with each iteration, although further steps or tuning may be needed for optimal accuracy.\n",
    "\n",
    "\n",
    "</div>"
   ]
  },
  {
   "cell_type": "markdown",
   "id": "345f9669-41a2-4c18-9bfb-c5caec803239",
   "metadata": {},
   "source": [
    "<div style=\"background-color: #f1f8e9; padding: 15px; border-radius: 8px;\">\n",
    "    <h2 style=\"color:#33691e; margin-top:0;\"> Final Comparative Interpretation</h2>\n",
    "\n",
    "\n",
    "### **Comparison of Linear Regression Models**\n",
    "\n",
    "| Aspect                  | **Linear Regression (Closed-form)** | **SGDRegressor (Gradient Descent)**     | **Manual Gradient Descent**         |\n",
    "| ----------------------- | ----------------------------------- | --------------------------------------- | ----------------------------------- |\n",
    "| **Intercept**           | 1.0000                              | 0.9104                                  | 0.8687                              |\n",
    "| **Coefficient (Slope)** | 2.0000                              | 2.0370                                  | 1.9618                              |\n",
    "| **Final SSE**           | 0.0000                              | 0.0035                                  | 0.1324                              |\n",
    "| **Model Equation**      | y = 1.0000 + 2.0000x                | y = 0.9104 + 2.0370x                    | y = 0.8687 + 1.9618x                |\n",
    "| **Fit Quality**         | Perfect fit                         | Near-perfect fit                        | Close but less accurate             |\n",
    "| **Convergence Type**    | Exact solution (analytical)         | Iterative (stochastic gradient descent) | Iterative (manual gradient descent) |\n",
    "| **Iterations**          | Not needed                          | Auto-stopped based on tolerance         | Stopped at 5 iterations             |\n",
    "\n",
    "\n",
    "### **Interpretation Summary**\n",
    "\n",
    "* **Linear Regression (Closed-form)** produces a **perfect fit** to the data, with a Sum of Squared Errors (SSE) of **zero**, showing that the model captures the exact linear relationship between `x` and `y`. This is expected with small, perfectly linear datasets.\n",
    "\n",
    "* **SGDRegressor**, using stochastic gradient descent, gives a model **very close** to the closed-form solution. Its minimal SSE (**0.0035**) and nearly identical slope/intercept reflect successful convergence, with only minor approximation due to its iterative nature.\n",
    "\n",
    "* **Manual Gradient Descent**, while showing good convergence within just **5 iterations**, results in a slightly **less accurate fit**, with a higher SSE (**0.1324**) and slightly off parameters. Still, it effectively captures the trend and demonstrates the learning process well.\n",
    "\n",
    "### **Conclusion**\n",
    "\n",
    "All three models successfully learn the linear relationship between `x` and `y`. The **closed-form** model is the most precise, the **SGDRegressor** is an efficient approximation with minor error, and the **manual gradient descent** provides valuable educational insight into model convergence, despite its slightly lower accuracy.\n",
    "\n",
    "This comparison highlights both the **strength of automated tools** and the **learning value of manual implementation** in understanding regression mechanics.\n",
    "\n",
    "\n",
    "\n",
    "</div>"
   ]
  }
 ],
 "metadata": {
  "kernelspec": {
   "display_name": "Python [conda env:base] *",
   "language": "python",
   "name": "conda-base-py"
  },
  "language_info": {
   "codemirror_mode": {
    "name": "ipython",
    "version": 3
   },
   "file_extension": ".py",
   "mimetype": "text/x-python",
   "name": "python",
   "nbconvert_exporter": "python",
   "pygments_lexer": "ipython3",
   "version": "3.12.7"
  }
 },
 "nbformat": 4,
 "nbformat_minor": 5
}
